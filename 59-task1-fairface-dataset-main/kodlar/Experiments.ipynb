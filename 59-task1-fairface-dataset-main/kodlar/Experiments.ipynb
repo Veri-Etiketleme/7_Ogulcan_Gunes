{
 "cells": [
  {
   "cell_type": "code",
   "execution_count": 39,
   "id": "7ea43dd9",
   "metadata": {},
   "outputs": [],
   "source": [
    "from __future__ import print_function, division\n",
    "\n",
    "import torch\n",
    "import torch.nn as nn\n",
    "import torch.optim as optim\n",
    "from torch.optim import lr_scheduler\n",
    "import torch.backends.cudnn as cudnn\n",
    "import pandas as pd\n",
    "import numpy as np\n",
    "import torchvision\n",
    "from torchvision import datasets, models, transforms\n",
    "import matplotlib.pyplot as plt\n",
    "import time\n",
    "import os\n",
    "import copy\n",
    "\n",
    "cudnn.benchmark = True"
   ]
  },
  {
   "cell_type": "code",
   "execution_count": 40,
   "id": "a610c94d",
   "metadata": {},
   "outputs": [],
   "source": [
    "from torch.utils.data import Dataset, random_split\n",
    "from torchvision.io import read_image\n",
    "from tqdm.notebook import tqdm"
   ]
  },
  {
   "cell_type": "code",
   "execution_count": 56,
   "id": "43b43189",
   "metadata": {},
   "outputs": [
    {
     "data": {
      "text/html": [
       "Finishing last run (ID:3n0kc2of) before initializing another..."
      ],
      "text/plain": [
       "<IPython.core.display.HTML object>"
      ]
     },
     "metadata": {},
     "output_type": "display_data"
    },
    {
     "data": {
      "text/html": [
       "<br/>Waiting for W&B process to finish, PID 1026... <strong style=\"color:green\">(success).</strong>"
      ],
      "text/plain": [
       "<IPython.core.display.HTML object>"
      ]
     },
     "metadata": {},
     "output_type": "display_data"
    },
    {
     "data": {
      "application/vnd.jupyter.widget-view+json": {
       "model_id": "268ee6d9407748d48eeb8d88418e35d6",
       "version_major": 2,
       "version_minor": 0
      },
      "text/plain": [
       "VBox(children=(Label(value=' 0.00MB of 0.00MB uploaded (0.00MB deduped)\\r'), FloatProgress(value=1.0, max=1.0)…"
      ]
     },
     "metadata": {},
     "output_type": "display_data"
    },
    {
     "data": {
      "text/html": [
       "<style>\n",
       "    table.wandb td:nth-child(1) { padding: 0 10px; text-align: right }\n",
       "    .wandb-row { display: flex; flex-direction: row; flex-wrap: wrap; width: 100% }\n",
       "    .wandb-col { display: flex; flex-direction: column; flex-basis: 100%; flex: 1; padding: 10px; }\n",
       "    </style>\n",
       "<div class=\"wandb-row\"><div class=\"wandb-col\">\n",
       "</div><div class=\"wandb-col\">\n",
       "</div></div>\n",
       "Synced 4 W&B file(s), 0 media file(s), 0 artifact file(s) and 0 other file(s)\n",
       "<br/>Synced <strong style=\"color:#cdcd00\">enthralling-romance-3</strong>: <a href=\"https://wandb.ai/arshpreet/FairFaceClassification/runs/3n0kc2of\" target=\"_blank\">https://wandb.ai/arshpreet/FairFaceClassification/runs/3n0kc2of</a><br/>\n",
       "Find logs at: <code>./wandb/run-20220216_004556-3n0kc2of/logs</code><br/>\n"
      ],
      "text/plain": [
       "<IPython.core.display.HTML object>"
      ]
     },
     "metadata": {},
     "output_type": "display_data"
    },
    {
     "data": {
      "text/html": [
       "Successfully finished last run (ID:3n0kc2of). Initializing new run:<br/>"
      ],
      "text/plain": [
       "<IPython.core.display.HTML object>"
      ]
     },
     "metadata": {},
     "output_type": "display_data"
    },
    {
     "data": {
      "text/html": [
       "\n",
       "                    Syncing run <strong><a href=\"https://wandb.ai/arshpreet/FairFaceClassification/runs/7vo7qcd3\" target=\"_blank\">resnet50_32_5</a></strong> to <a href=\"https://wandb.ai/arshpreet/FairFaceClassification\" target=\"_blank\">Weights & Biases</a> (<a href=\"https://docs.wandb.com/integrations/jupyter.html\" target=\"_blank\">docs</a>).<br/>\n",
       "\n",
       "                "
      ],
      "text/plain": [
       "<IPython.core.display.HTML object>"
      ]
     },
     "metadata": {},
     "output_type": "display_data"
    },
    {
     "data": {
      "text/html": [
       "<button onClick=\"this.nextSibling.style.display='block';this.style.display='none';\">Display W&B run</button><iframe src=\"https://wandb.ai/arshpreet/FairFaceClassification/runs/7vo7qcd3?jupyter=true\" style=\"border:none;width:100%;height:420px;display:none;\"></iframe>"
      ],
      "text/plain": [
       "<wandb.sdk.wandb_run.Run at 0x7f88de5eeba8>"
      ]
     },
     "execution_count": 56,
     "metadata": {},
     "output_type": "execute_result"
    }
   ],
   "source": [
    "import wandb\n",
    "\n",
    "wandb.init(project=\"FairFaceClassification\", entity=\"arshpreet\", name='resnet50_32_5')"
   ]
  },
  {
   "cell_type": "code",
   "execution_count": 57,
   "id": "b3c10124",
   "metadata": {},
   "outputs": [],
   "source": [
    "wandb.config = {\n",
    "  \"backbone\": 'resnet50',\n",
    "  \"extra-layers\": 'none',\n",
    "  \"learning_rate\": 0.001,\n",
    "  \"epochs\": 5,\n",
    "  \"batch_size\": 32\n",
    "}"
   ]
  },
  {
   "cell_type": "code",
   "execution_count": 58,
   "id": "481886e0",
   "metadata": {},
   "outputs": [],
   "source": [
    "from sklearn.preprocessing import LabelEncoder\n",
    "label_encoder1 = LabelEncoder()\n",
    "label_encoder2 = LabelEncoder()\n",
    "label_encoder3 = LabelEncoder()"
   ]
  },
  {
   "cell_type": "code",
   "execution_count": 59,
   "id": "326ee8f9",
   "metadata": {},
   "outputs": [],
   "source": [
    "transform = transforms.Compose([\n",
    "    transforms.ToPILImage(),\n",
    "    transforms.Resize(244),\n",
    "    transforms.ToTensor(),\n",
    "    transforms.Normalize(mean=[0.485, 0.456, 0.406], std=[0.229, 0.224, 0.225]),\n",
    "])"
   ]
  },
  {
   "cell_type": "code",
   "execution_count": 60,
   "id": "5e384f1a",
   "metadata": {},
   "outputs": [],
   "source": [
    "class FairFaceDataset(Dataset):\n",
    "    \"\"\"\n",
    "    Class for preprocessing data\n",
    "    Input: Dataset\n",
    "    Functionality: Label encodes the predictive labels and processes images from the dataset\n",
    "    Returns: processed labels and images\n",
    "    \"\"\"\n",
    "    def __init__(self, annotations_file, img_dir, transform=None, target_transform=None):\n",
    "        '''\n",
    "        Does required encoding of labels\n",
    "        '''\n",
    "        self.img_labels = pd.read_csv(annotations_file)\n",
    "        self.img_labels['age'] = label_encoder1.fit_transform(self.img_labels['age'])\n",
    "        self.img_labels['gender'] = label_encoder2.fit_transform(self.img_labels['gender'])\n",
    "        self.img_labels['race'] = label_encoder3.fit_transform(self.img_labels['race'])\n",
    "        self.img_dir = img_dir\n",
    "        self.transform = transform\n",
    "        self.target_transform = target_transform\n",
    "\n",
    "    def __len__(self):\n",
    "        '''\n",
    "        returns length of the image labels\n",
    "        '''\n",
    "        return len(self.img_labels)\n",
    "\n",
    "    def __getitem__(self, idx):\n",
    "        '''\n",
    "        extracts images and returns the image along with the corresponding labels\n",
    "        '''\n",
    "        img_path = os.path.join(self.img_dir, self.img_labels.iloc[idx, 0])\n",
    "        image = read_image(img_path)\n",
    "        age = self.img_labels.iloc[idx, 1]\n",
    "        gender = self.img_labels.iloc[idx, 2]\n",
    "        race = self.img_labels.iloc[idx, 3]\n",
    "        if self.transform:\n",
    "            image = self.transform(image)\n",
    "        # if self.target_transform:\n",
    "        #     label = self.target_transform(label)\n",
    "        labels = (age, gender, race)\n",
    "        return image, labels"
   ]
  },
  {
   "cell_type": "code",
   "execution_count": 61,
   "id": "b08cafe7",
   "metadata": {},
   "outputs": [],
   "source": [
    "img_dir = '../fairface-data'\n",
    "train_labels_path = \"../fairface-data/fairface_label_train.csv\"\n",
    "val_labels_path = \"../fairface-data/fairface_label_val.csv\""
   ]
  },
  {
   "cell_type": "code",
   "execution_count": 62,
   "id": "241e96ae",
   "metadata": {},
   "outputs": [],
   "source": [
    "training_data = FairFaceDataset(train_labels_path, img_dir, transform=transform)\n",
    "val_data = FairFaceDataset(val_labels_path, img_dir, transform=transform)"
   ]
  },
  {
   "cell_type": "code",
   "execution_count": 63,
   "id": "4dc4a717",
   "metadata": {},
   "outputs": [
    {
     "name": "stdout",
     "output_type": "stream",
     "text": [
      "86744 10954\n"
     ]
    }
   ],
   "source": [
    "train_size, val_size = len(training_data), len(val_data)\n",
    "print(train_size, val_size)"
   ]
  },
  {
   "cell_type": "code",
   "execution_count": 43,
   "id": "4d5652c6",
   "metadata": {},
   "outputs": [
    {
     "data": {
      "text/plain": [
       "(tensor([[[-1.9809, -1.9638, -1.9467,  ..., -1.3473, -1.3473, -1.3473],\n",
       "          [-1.9980, -1.9809, -1.9638,  ..., -1.3987, -1.4158, -1.4158],\n",
       "          [-2.0152, -2.0152, -1.9809,  ..., -1.5014, -1.5185, -1.5185],\n",
       "          ...,\n",
       "          [-1.4158, -1.4158, -1.3987,  ..., -1.7754, -1.7583, -1.7754],\n",
       "          [-1.4500, -1.4500, -1.4843,  ..., -1.7583, -1.7412, -1.7412],\n",
       "          [-1.4843, -1.4843, -1.5185,  ..., -1.7069, -1.7240, -1.7240]],\n",
       " \n",
       "         [[-1.8957, -1.8782, -1.8957,  ..., -1.5805, -1.6155, -1.6155],\n",
       "          [-1.9132, -1.8957, -1.9132,  ..., -1.5980, -1.6331, -1.6331],\n",
       "          [-1.9307, -1.9307, -1.9307,  ..., -1.6155, -1.6331, -1.6331],\n",
       "          ...,\n",
       "          [-1.5980, -1.5980, -1.5630,  ..., -1.7381, -1.7206, -1.6856],\n",
       "          [-1.5630, -1.5630, -1.5630,  ..., -1.7206, -1.7031, -1.6856],\n",
       "          [-1.5805, -1.5805, -1.5805,  ..., -1.6856, -1.6681, -1.6681]],\n",
       " \n",
       "         [[-1.6302, -1.6127, -1.6127,  ..., -1.4559, -1.4384, -1.4384],\n",
       "          [-1.6476, -1.6302, -1.6302,  ..., -1.4907, -1.4733, -1.4733],\n",
       "          [-1.6650, -1.6650, -1.6650,  ..., -1.4907, -1.4733, -1.4733],\n",
       "          ...,\n",
       "          [-1.2641, -1.2641, -1.2816,  ..., -1.6302, -1.6127, -1.6302],\n",
       "          [-1.2641, -1.2641, -1.2990,  ..., -1.6476, -1.6302, -1.6650],\n",
       "          [-1.2816, -1.2816, -1.3164,  ..., -1.6127, -1.6476, -1.6476]]]),\n",
       " (6, 1, 1))"
      ]
     },
     "execution_count": 43,
     "metadata": {},
     "output_type": "execute_result"
    }
   ],
   "source": [
    "training_data[0]"
   ]
  },
  {
   "cell_type": "code",
   "execution_count": 48,
   "id": "e05273b5",
   "metadata": {},
   "outputs": [],
   "source": [
    "def get_label_names(labels):\n",
    "    '''\n",
    "    gets true labels corresponding to the encoded values\n",
    "    '''\n",
    "    age, gender, race = labels\n",
    "    age = label_encoder1.inverse_transform(age)\n",
    "    gender = label_encoder2.inverse_transform(gender)\n",
    "    race = label_encoder3.inverse_transform(race)\n",
    "    return age, gender, race"
   ]
  },
  {
   "cell_type": "code",
   "execution_count": 67,
   "id": "b06b4992",
   "metadata": {},
   "outputs": [],
   "source": [
    "image_datasets = {'train': training_data,\n",
    "                  'val': val_data}\n",
    "dataloaders = {x: torch.utils.data.DataLoader(image_datasets[x], batch_size=32,\n",
    "                                             shuffle=True, num_workers=4)\n",
    "              for x in ['train', 'val']}\n",
    "dataset_sizes = {x: len(image_datasets[x]) for x in ['train', 'val']}\n",
    "\n",
    "device = torch.device(\"cuda:0\" if torch.cuda.is_available() else \"cpu\")"
   ]
  },
  {
   "cell_type": "code",
   "execution_count": 68,
   "id": "d4d5b68e",
   "metadata": {},
   "outputs": [
    {
     "name": "stderr",
     "output_type": "stream",
     "text": [
      "Clipping input data to the valid range for imshow with RGB data ([0..1] for floats or [0..255] for integers).\n"
     ]
    },
    {
     "name": "stdout",
     "output_type": "stream",
     "text": [
      "Feature batch shape: torch.Size([32, 3, 244, 244])\n"
     ]
    },
    {
     "data": {
      "image/png": "[encoded data removed]",
      "text/plain": [
       "<Figure size 432x288 with 1 Axes>"
      ]
     },
     "metadata": {
      "needs_background": "light"
     },
     "output_type": "display_data"
    },
    {
     "name": "stdout",
     "output_type": "stream",
     "text": [
      "(array(['10-19'], dtype=object), array(['Male'], dtype=object), array(['Middle Eastern'], dtype=object))\n"
     ]
    }
   ],
   "source": [
    "inputs, labels = next(iter(dataloaders['train']))\n",
    "print(f\"Feature batch shape: {inputs.size()}\")\n",
    "label_names = get_label_names(x[0].unsqueeze(0) for x in labels)\n",
    "img = inputs[0].squeeze()\n",
    "plt.imshow(img.permute(1, 2, 0))\n",
    "plt.show()\n",
    "print(label_names)"
   ]
  },
  {
   "cell_type": "code",
   "execution_count": 51,
   "id": "09ba6cc4",
   "metadata": {},
   "outputs": [
    {
     "name": "stderr",
     "output_type": "stream",
     "text": [
      "Clipping input data to the valid range for imshow with RGB data ([0..1] for floats or [0..255] for integers).\n"
     ]
    },
    {
     "data": {
      "image/png": "[encoded data removed]",
      "text/plain": [
       "<Figure size 432x288 with 1 Axes>"
      ]
     },
     "metadata": {
      "needs_background": "light"
     },
     "output_type": "display_data"
    }
   ],
   "source": [
    "def imshow(inp, title=None):\n",
    "    inp = inp.numpy().transpose((1, 2, 0))\n",
    "    plt.imshow(inp)\n",
    "    plt.pause(0.001) \n",
    "\n",
    "inputs, classes = next(iter(dataloaders['train']))\n",
    "out = torchvision.utils.make_grid(inputs)\n",
    "imshow(out)"
   ]
  },
  {
   "cell_type": "code",
   "execution_count": 52,
   "id": "78c840b8",
   "metadata": {},
   "outputs": [
    {
     "data": {
      "text/plain": [
       "(array(['30-39', '20-29', '40-49', '30-39', '40-49', '40-49', '10-19',\n",
       "        '40-49', '10-19', '20-29', '3-9', '20-29', '30-39', '30-39',\n",
       "        '10-19', '10-19'], dtype=object),\n",
       " array(['Male', 'Male', 'Male', 'Female', 'Female', 'Male', 'Male', 'Male',\n",
       "        'Female', 'Female', 'Female', 'Female', 'Male', 'Female', 'Male',\n",
       "        'Male'], dtype=object),\n",
       " array(['Black', 'Middle Eastern', 'Middle Eastern', 'White', 'East Asian',\n",
       "        'Indian', 'Indian', 'East Asian', 'Latino_Hispanic', 'Indian',\n",
       "        'Indian', 'White', 'Middle Eastern', 'White', 'Latino_Hispanic',\n",
       "        'Southeast Asian'], dtype=object))"
      ]
     },
     "execution_count": 52,
     "metadata": {},
     "output_type": "execute_result"
    }
   ],
   "source": [
    "get_label_names(classes)"
   ]
  },
  {
   "cell_type": "code",
   "execution_count": 69,
   "id": "968af256",
   "metadata": {},
   "outputs": [],
   "source": [
    "def train_model(model, criterion, optimizer, scheduler, num_epochs=10):\n",
    "    '''\n",
    "    for defining the training and validation loop of the model\n",
    "    and logging the experiments\n",
    "    '''\n",
    "    since = time.time()\n",
    "\n",
    "    best_model_wts = copy.deepcopy(model.state_dict())\n",
    "    best_loss = np.inf\n",
    "\n",
    "    for epoch in range(num_epochs):\n",
    "        print('Epoch {}/{}'.format(epoch, num_epochs - 1))\n",
    "        print('-' * 10)\n",
    "\n",
    "        for phase in ['train', 'val']:\n",
    "            if phase == 'train':\n",
    "                model.train()\n",
    "            else:\n",
    "                model.eval()\n",
    "\n",
    "            running_loss = 0.0\n",
    "            age_acc, gender_acc, race_acc = (0.0,0.0,0.0)\n",
    "\n",
    "            for inputs, labels in tqdm(dataloaders[phase]):\n",
    "                inputs = inputs.float().to(device)\n",
    "                label1 = labels[0].to(device)\n",
    "                label2 = labels[1].to(device)\n",
    "                label3 = labels[2].to(device)\n",
    "\n",
    "                optimizer.zero_grad()\n",
    "\n",
    "                with torch.set_grad_enabled(phase == 'train'):\n",
    "                    op1, op2, op3 = model(inputs)\n",
    "                    loss = criterion(op1, label1) \\\n",
    "                         + criterion(op2, label2) \\\n",
    "                         + criterion(op3, label3)\n",
    "\n",
    "                    y_pred = [torch.argmax(torch.softmax(out, dim=1), dim=1) for out in (op1,op2,op3)]\n",
    "                    age_acc += torch.sum(label1 == y_pred[0])\n",
    "                    gender_acc += torch.sum(label2 == y_pred[1])\n",
    "                    race_acc += torch.sum(label3 == y_pred[2])\n",
    "\n",
    "                    if phase == 'train':\n",
    "                        loss.backward()\n",
    "                        optimizer.step()\n",
    "\n",
    "                running_loss += loss.item() * inputs.size(0)\n",
    "\n",
    "            if phase == 'train':\n",
    "                scheduler.step()\n",
    "\n",
    "            epoch_loss = running_loss / dataset_sizes[phase]\n",
    "            age_acc /= dataset_sizes[phase]\n",
    "            gender_acc /= dataset_sizes[phase]\n",
    "            race_acc /= dataset_sizes[phase]\n",
    "\n",
    "            if phase=='train':\n",
    "                wandb.log({\"Epoch Loss for train\": epoch_loss,\n",
    "                        \"Age Accuracy for train\": age_acc,\n",
    "                        \"Gender Accuracy for train\": gender_acc,\n",
    "                        \"Race Accuracy for train\": race_acc}\n",
    "                        )\n",
    "            else:\n",
    "                wandb.log({\"Epoch Loss for val\": epoch_loss,\n",
    "                        \"Age Accuracy for val\": age_acc,\n",
    "                        \"Gender Accuracy for val\": gender_acc,\n",
    "                        \"Race Accuracy for val\": race_acc}\n",
    "                        )\n",
    "\n",
    "            print('{} Loss: {:.4f}'.format(\n",
    "                phase, epoch_loss))\n",
    "\n",
    "            print('{} Accuracy- Age: {:.2f}, Gender: {:.2f}, Race: {:.2f}'.format(\n",
    "                phase, age_acc, gender_acc, race_acc))\n",
    "\n",
    "            if phase == 'val' and epoch_loss < best_loss:\n",
    "                best_loss = epoch_loss\n",
    "                best_model_wts = copy.deepcopy(model.state_dict())\n",
    "\n",
    "        print()\n",
    "\n",
    "    time_elapsed = time.time() - since\n",
    "    print('Training complete in {:.0f}m {:.0f}s'.format(\n",
    "        time_elapsed // 60, time_elapsed % 60))\n",
    "    print('Best val loss: {:4f}'.format(best_loss))\n",
    "\n",
    "    model.load_state_dict(best_model_wts)\n",
    "    return model"
   ]
  },
  {
   "cell_type": "markdown",
   "id": "beedab78",
   "metadata": {},
   "source": [
    "## ResNet 50"
   ]
  },
  {
   "cell_type": "code",
   "execution_count": 70,
   "id": "21dbec58",
   "metadata": {},
   "outputs": [],
   "source": [
    "class MultiTaskClassifier(nn.Module):\n",
    "    '''\n",
    "    Building the architecture of the pre-trained backbone\n",
    "    '''\n",
    "    def __init__(self):\n",
    "        '''\n",
    "        defining the fully-connected layers added on top of the backbone\n",
    "        '''\n",
    "        super().__init__()\n",
    "        self.resnet50 = models.resnet50(pretrained=True)\n",
    "        self.num_ftrs = self.resnet50.fc.out_features\n",
    "        self.op1 = nn.Linear(self.num_ftrs, 9)\n",
    "        self.op2 = nn.Linear(self.num_ftrs, 2)\n",
    "        self.op3 = nn.Linear(self.num_ftrs, 7)\n",
    "\n",
    "    def forward(self, x):\n",
    "        '''\n",
    "        for returning the label values predicted by the model\n",
    "        '''\n",
    "        x = self.resnet50(x)\n",
    "        age = self.op1(x)\n",
    "        gender = self.op2(x)\n",
    "        race = self.op3(x)\n",
    "        return (age, gender, race)"
   ]
  },
  {
   "cell_type": "code",
   "execution_count": 71,
   "id": "f08c2feb",
   "metadata": {},
   "outputs": [],
   "source": [
    "model = MultiTaskClassifier().cuda()\n",
    "\n",
    "criterion = nn.CrossEntropyLoss()\n",
    "\n",
    "optimizer_ft = optim.Adam(model.parameters(), lr=0.001)\n",
    "\n",
    "# Decay LR by a factor of 0.1 every 7 epochs\n",
    "exp_lr_scheduler = lr_scheduler.StepLR(optimizer_ft, step_size=7, gamma=0.1)"
   ]
  },
  {
   "cell_type": "code",
   "execution_count": 49,
   "id": "ba157430",
   "metadata": {},
   "outputs": [
    {
     "name": "stdout",
     "output_type": "stream",
     "text": [
      "Epoch 0/4\n",
      "----------\n"
     ]
    },
    {
     "data": {
      "application/vnd.jupyter.widget-view+json": {
       "model_id": "876c019864ad43f39d75ebb9ed862419",
       "version_major": 2,
       "version_minor": 0
      },
      "text/plain": [
       "  0%|          | 0/5422 [00:00<?, ?it/s]"
      ]
     },
     "metadata": {},
     "output_type": "display_data"
    },
    {
     "name": "stdout",
     "output_type": "stream",
     "text": [
      "train Loss: 3.9622\n",
      "train Accuracy- Age: 0.34, Gender: 0.67, Race: 0.33\n"
     ]
    },
    {
     "data": {
      "application/vnd.jupyter.widget-view+json": {
       "model_id": "c167aaf3246a4c44b9ab32a788398e3b",
       "version_major": 2,
       "version_minor": 0
      },
      "text/plain": [
       "  0%|          | 0/685 [00:00<?, ?it/s]"
      ]
     },
     "metadata": {},
     "output_type": "display_data"
    },
    {
     "name": "stdout",
     "output_type": "stream",
     "text": [
      "val Loss: 3.3551\n",
      "val Accuracy- Age: 0.39, Gender: 0.77, Race: 0.46\n",
      "\n",
      "Epoch 1/4\n",
      "----------\n"
     ]
    },
    {
     "data": {
      "application/vnd.jupyter.widget-view+json": {
       "model_id": "1cde8a16b2ae4f2cade4c853e13893bd",
       "version_major": 2,
       "version_minor": 0
      },
      "text/plain": [
       "  0%|          | 0/5422 [00:00<?, ?it/s]"
      ]
     },
     "metadata": {},
     "output_type": "display_data"
    },
    {
     "name": "stdout",
     "output_type": "stream",
     "text": [
      "train Loss: 3.0883\n",
      "train Accuracy- Age: 0.43, Gender: 0.81, Race: 0.49\n"
     ]
    },
    {
     "data": {
      "application/vnd.jupyter.widget-view+json": {
       "model_id": "8273119abd694532be759f4b400b76c3",
       "version_major": 2,
       "version_minor": 0
      },
      "text/plain": [
       "  0%|          | 0/685 [00:00<?, ?it/s]"
      ]
     },
     "metadata": {},
     "output_type": "display_data"
    },
    {
     "name": "stdout",
     "output_type": "stream",
     "text": [
      "val Loss: 2.8455\n",
      "val Accuracy- Age: 0.47, Gender: 0.84, Race: 0.53\n",
      "\n",
      "Epoch 2/4\n",
      "----------\n"
     ]
    },
    {
     "data": {
      "application/vnd.jupyter.widget-view+json": {
       "model_id": "532b766b19ac46178f2b392c7aca4463",
       "version_major": 2,
       "version_minor": 0
      },
      "text/plain": [
       "  0%|          | 0/5422 [00:00<?, ?it/s]"
      ]
     },
     "metadata": {},
     "output_type": "display_data"
    },
    {
     "name": "stdout",
     "output_type": "stream",
     "text": [
      "train Loss: 2.7059\n",
      "train Accuracy- Age: 0.48, Gender: 0.86, Race: 0.55\n"
     ]
    },
    {
     "data": {
      "application/vnd.jupyter.widget-view+json": {
       "model_id": "65195cbae57b41968244870ebff0c72b",
       "version_major": 2,
       "version_minor": 0
      },
      "text/plain": [
       "  0%|          | 0/685 [00:00<?, ?it/s]"
      ]
     },
     "metadata": {},
     "output_type": "display_data"
    },
    {
     "name": "stdout",
     "output_type": "stream",
     "text": [
      "val Loss: 2.6410\n",
      "val Accuracy- Age: 0.49, Gender: 0.86, Race: 0.57\n",
      "\n",
      "Epoch 3/4\n",
      "----------\n"
     ]
    },
    {
     "data": {
      "application/vnd.jupyter.widget-view+json": {
       "model_id": "3130558b887b4088bf9cfa406385b3b6",
       "version_major": 2,
       "version_minor": 0
      },
      "text/plain": [
       "  0%|          | 0/5422 [00:00<?, ?it/s]"
      ]
     },
     "metadata": {},
     "output_type": "display_data"
    },
    {
     "name": "stdout",
     "output_type": "stream",
     "text": [
      "train Loss: 2.4894\n",
      "train Accuracy- Age: 0.51, Gender: 0.88, Race: 0.59\n"
     ]
    },
    {
     "data": {
      "application/vnd.jupyter.widget-view+json": {
       "model_id": "6445c63eba1e47079ef86f17bd15a339",
       "version_major": 2,
       "version_minor": 0
      },
      "text/plain": [
       "  0%|          | 0/685 [00:00<?, ?it/s]"
      ]
     },
     "metadata": {},
     "output_type": "display_data"
    },
    {
     "name": "stdout",
     "output_type": "stream",
     "text": [
      "val Loss: 2.4373\n",
      "val Accuracy- Age: 0.52, Gender: 0.89, Race: 0.60\n",
      "\n",
      "Epoch 4/4\n",
      "----------\n"
     ]
    },
    {
     "data": {
      "application/vnd.jupyter.widget-view+json": {
       "model_id": "cca08910798e41a591528948c5d127e2",
       "version_major": 2,
       "version_minor": 0
      },
      "text/plain": [
       "  0%|          | 0/5422 [00:00<?, ?it/s]"
      ]
     },
     "metadata": {},
     "output_type": "display_data"
    },
    {
     "name": "stdout",
     "output_type": "stream",
     "text": [
      "train Loss: 2.3233\n",
      "train Accuracy- Age: 0.53, Gender: 0.89, Race: 0.62\n"
     ]
    },
    {
     "data": {
      "application/vnd.jupyter.widget-view+json": {
       "model_id": "ff5e1cdee22445868cc943f2d35ee8c5",
       "version_major": 2,
       "version_minor": 0
      },
      "text/plain": [
       "  0%|          | 0/685 [00:00<?, ?it/s]"
      ]
     },
     "metadata": {},
     "output_type": "display_data"
    },
    {
     "name": "stdout",
     "output_type": "stream",
     "text": [
      "val Loss: 2.4457\n",
      "val Accuracy- Age: 0.50, Gender: 0.89, Race: 0.62\n",
      "\n",
      "Training complete in 45m 18s\n",
      "Best val loss: 2.437296\n"
     ]
    }
   ],
   "source": [
    "model_ft = train_model(model, criterion, optimizer_ft, exp_lr_scheduler,\n",
    "                       num_epochs=5)"
   ]
  },
  {
   "cell_type": "code",
   "execution_count": 72,
   "id": "15df4705",
   "metadata": {},
   "outputs": [
    {
     "name": "stdout",
     "output_type": "stream",
     "text": [
      "Epoch 0/4\n",
      "----------\n"
     ]
    },
    {
     "data": {
      "application/vnd.jupyter.widget-view+json": {
       "model_id": "fd86535c6c09433184bcb3ba33079360",
       "version_major": 2,
       "version_minor": 0
      },
      "text/plain": [
       "  0%|          | 0/2711 [00:00<?, ?it/s]"
      ]
     },
     "metadata": {},
     "output_type": "display_data"
    },
    {
     "name": "stdout",
     "output_type": "stream",
     "text": [
      "train Loss: 3.3926\n",
      "train Accuracy- Age: 0.40, Gender: 0.77, Race: 0.43\n"
     ]
    },
    {
     "data": {
      "application/vnd.jupyter.widget-view+json": {
       "model_id": "2d59547a23254c81adee1b230aa1aef6",
       "version_major": 2,
       "version_minor": 0
      },
      "text/plain": [
       "  0%|          | 0/343 [00:00<?, ?it/s]"
      ]
     },
     "metadata": {},
     "output_type": "display_data"
    },
    {
     "name": "stdout",
     "output_type": "stream",
     "text": [
      "val Loss: 2.9894\n",
      "val Accuracy- Age: 0.47, Gender: 0.84, Race: 0.50\n",
      "\n",
      "Epoch 1/4\n",
      "----------\n"
     ]
    },
    {
     "data": {
      "application/vnd.jupyter.widget-view+json": {
       "model_id": "26173a8c8fad4236af8a552cc6e361c6",
       "version_major": 2,
       "version_minor": 0
      },
      "text/plain": [
       "  0%|          | 0/2711 [00:00<?, ?it/s]"
      ]
     },
     "metadata": {},
     "output_type": "display_data"
    },
    {
     "name": "stdout",
     "output_type": "stream",
     "text": [
      "train Loss: 2.7194\n",
      "train Accuracy- Age: 0.48, Gender: 0.86, Race: 0.55\n"
     ]
    },
    {
     "data": {
      "application/vnd.jupyter.widget-view+json": {
       "model_id": "79098a9fa63742d4b083ba72fe1211d8",
       "version_major": 2,
       "version_minor": 0
      },
      "text/plain": [
       "  0%|          | 0/343 [00:00<?, ?it/s]"
      ]
     },
     "metadata": {},
     "output_type": "display_data"
    },
    {
     "name": "stdout",
     "output_type": "stream",
     "text": [
      "val Loss: 2.6262\n",
      "val Accuracy- Age: 0.50, Gender: 0.88, Race: 0.56\n",
      "\n",
      "Epoch 2/4\n",
      "----------\n"
     ]
    },
    {
     "data": {
      "application/vnd.jupyter.widget-view+json": {
       "model_id": "6fcf5b5f34264bfdacfaace98db43b66",
       "version_major": 2,
       "version_minor": 0
      },
      "text/plain": [
       "  0%|          | 0/2711 [00:00<?, ?it/s]"
      ]
     },
     "metadata": {},
     "output_type": "display_data"
    },
    {
     "name": "stdout",
     "output_type": "stream",
     "text": [
      "train Loss: 2.4437\n",
      "train Accuracy- Age: 0.51, Gender: 0.89, Race: 0.60\n"
     ]
    },
    {
     "data": {
      "application/vnd.jupyter.widget-view+json": {
       "model_id": "0e404495c8074e858abccbd71b670498",
       "version_major": 2,
       "version_minor": 0
      },
      "text/plain": [
       "  0%|          | 0/343 [00:00<?, ?it/s]"
      ]
     },
     "metadata": {},
     "output_type": "display_data"
    },
    {
     "name": "stdout",
     "output_type": "stream",
     "text": [
      "val Loss: 2.4318\n",
      "val Accuracy- Age: 0.51, Gender: 0.90, Race: 0.60\n",
      "\n",
      "Epoch 3/4\n",
      "----------\n"
     ]
    },
    {
     "data": {
      "application/vnd.jupyter.widget-view+json": {
       "model_id": "a832b5ac36bf465c807422b002e9c3db",
       "version_major": 2,
       "version_minor": 0
      },
      "text/plain": [
       "  0%|          | 0/2711 [00:00<?, ?it/s]"
      ]
     },
     "metadata": {},
     "output_type": "display_data"
    },
    {
     "name": "stdout",
     "output_type": "stream",
     "text": [
      "train Loss: 2.2558\n",
      "train Accuracy- Age: 0.54, Gender: 0.90, Race: 0.63\n"
     ]
    },
    {
     "data": {
      "application/vnd.jupyter.widget-view+json": {
       "model_id": "26ea03860388496ea43d5ee7cf099c6b",
       "version_major": 2,
       "version_minor": 0
      },
      "text/plain": [
       "  0%|          | 0/343 [00:00<?, ?it/s]"
      ]
     },
     "metadata": {},
     "output_type": "display_data"
    },
    {
     "name": "stdout",
     "output_type": "stream",
     "text": [
      "val Loss: 2.5511\n",
      "val Accuracy- Age: 0.54, Gender: 0.88, Race: 0.60\n",
      "\n",
      "Epoch 4/4\n",
      "----------\n"
     ]
    },
    {
     "data": {
      "application/vnd.jupyter.widget-view+json": {
       "model_id": "d686e6f7997a4d859515e407db353c7a",
       "version_major": 2,
       "version_minor": 0
      },
      "text/plain": [
       "  0%|          | 0/2711 [00:00<?, ?it/s]"
      ]
     },
     "metadata": {},
     "output_type": "display_data"
    },
    {
     "name": "stdout",
     "output_type": "stream",
     "text": [
      "train Loss: 2.0957\n",
      "train Accuracy- Age: 0.56, Gender: 0.92, Race: 0.66\n"
     ]
    },
    {
     "data": {
      "application/vnd.jupyter.widget-view+json": {
       "model_id": "d9da3e5be3bb4319a5b1aa544f23e64b",
       "version_major": 2,
       "version_minor": 0
      },
      "text/plain": [
       "  0%|          | 0/343 [00:00<?, ?it/s]"
      ]
     },
     "metadata": {},
     "output_type": "display_data"
    },
    {
     "name": "stdout",
     "output_type": "stream",
     "text": [
      "val Loss: 2.3416\n",
      "val Accuracy- Age: 0.53, Gender: 0.90, Race: 0.62\n",
      "\n",
      "Training complete in 41m 49s\n",
      "Best val loss: 2.341624\n"
     ]
    }
   ],
   "source": [
    "model_ft = train_model(model, criterion, optimizer_ft, exp_lr_scheduler,\n",
    "                       num_epochs=5)"
   ]
  },
  {
   "cell_type": "code",
   "execution_count": 78,
   "id": "69056012",
   "metadata": {},
   "outputs": [],
   "source": [
    "PATH = \"models/resnet50_32.pth\""
   ]
  },
  {
   "cell_type": "code",
   "execution_count": 76,
   "id": "611314c5",
   "metadata": {},
   "outputs": [],
   "source": [
    "torch.save(model_ft.state_dict(), PATH)"
   ]
  },
  {
   "cell_type": "code",
   "execution_count": 79,
   "id": "c371f8ad",
   "metadata": {},
   "outputs": [
    {
     "data": {
      "text/plain": [
       "<All keys matched successfully>"
      ]
     },
     "execution_count": 79,
     "metadata": {},
     "output_type": "execute_result"
    }
   ],
   "source": [
    "testmodel = MultiTaskClassifier().cuda()\n",
    "testmodel.load_state_dict(torch.load(PATH))"
   ]
  },
  {
   "cell_type": "code",
   "execution_count": 88,
   "id": "01709e6f",
   "metadata": {},
   "outputs": [
    {
     "data": {
      "text/plain": [
       "torch.Size([1, 3, 244, 244])"
      ]
     },
     "execution_count": 88,
     "metadata": {},
     "output_type": "execute_result"
    }
   ],
   "source": [
    "next(iter(dataloaders['val']))[0][0].unsqueeze(0).shape"
   ]
  },
  {
   "cell_type": "code",
   "execution_count": 90,
   "id": "44745582",
   "metadata": {},
   "outputs": [],
   "source": [
    "output = testmodel(next(iter(dataloaders['val']))[0][0].unsqueeze(0).cuda())"
   ]
  },
  {
   "cell_type": "code",
   "execution_count": 91,
   "id": "ed56a4c3",
   "metadata": {},
   "outputs": [
    {
     "data": {
      "text/plain": [
       "(tensor([[-12.9845,   0.5151,   2.6188,  -3.8232,   2.6869,   1.7755,  -1.3072,\n",
       "           -5.9720, -10.9508]], device='cuda:0', grad_fn=<AddmmBackward0>),\n",
       " tensor([[-1.5503,  1.6068]], device='cuda:0', grad_fn=<AddmmBackward0>),\n",
       " tensor([[-0.9564, -3.3385,  0.1673,  2.6150, -0.3810, -1.0186, -0.6816]],\n",
       "        device='cuda:0', grad_fn=<AddmmBackward0>))"
      ]
     },
     "execution_count": 91,
     "metadata": {},
     "output_type": "execute_result"
    }
   ],
   "source": [
    "output"
   ]
  },
  {
   "cell_type": "code",
   "execution_count": null,
   "id": "4f6102b0",
   "metadata": {},
   "outputs": [],
   "source": []
  }
 ],
 "metadata": {
  "kernelspec": {
   "display_name": "Python 3",
   "language": "python",
   "name": "python3"
  },
  "language_info": {
   "codemirror_mode": {
    "name": "ipython",
    "version": 3
   },
   "file_extension": ".py",
   "mimetype": "text/x-python",
   "name": "python",
   "nbconvert_exporter": "python",
   "pygments_lexer": "ipython3",
   "version": "3.6.9"
  }
 },
 "nbformat": 4,
 "nbformat_minor": 5
}
