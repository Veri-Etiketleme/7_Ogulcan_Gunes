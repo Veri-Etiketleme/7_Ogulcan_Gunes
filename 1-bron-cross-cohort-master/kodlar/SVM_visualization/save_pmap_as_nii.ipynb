{
 "cells": [
  {
   "cell_type": "code",
   "execution_count": 1,
   "metadata": {},
   "outputs": [],
   "source": [
    "import pandas as pd\n",
    "import numpy as np\n",
    "import os\n",
    "import nibabel as nib\n",
    "from scipy.io import loadmat\n",
    "\n",
    "\n",
    "directory = \"/scratch/ebron/ADNI/\"\n",
    "pmap_matfile = os.path.join(directory, \"Pmaps\", \"pmap_t1.mat\")\n",
    "mask_filename = os.path.join(directory, 'Template_space', 'brain_mask_in_template_space.nii.gz')\n"
   ]
  },
  {
   "cell_type": "code",
   "execution_count": 11,
   "metadata": {
    "scrolled": true
   },
   "outputs": [
    {
     "name": "stdout",
     "output_type": "stream",
     "text": [
      "<class 'nibabel.nifti1.Nifti1Header'> object, endian='<'\n",
      "sizeof_hdr      : 348\n",
      "data_type       : b''\n",
      "db_name         : b''\n",
      "extents         : 0\n",
      "session_error   : 0\n",
      "regular         : b'r'\n",
      "dim_info        : 0\n",
      "dim             : [  3 182 218 182   1   1   1   1]\n",
      "intent_p1       : 0.0\n",
      "intent_p2       : 0.0\n",
      "intent_p3       : 0.0\n",
      "intent_code     : none\n",
      "datatype        : uint8\n",
      "bitpix          : 8\n",
      "slice_start     : 0\n",
      "pixdim          : [-1.  1.  1.  1.  0.  0.  0.  0.]\n",
      "vox_offset      : 0.0\n",
      "scl_slope       : nan\n",
      "scl_inter       : nan\n",
      "slice_end       : 0\n",
      "slice_code      : unknown\n",
      "xyzt_units      : 2\n",
      "cal_max         : 0.0\n",
      "cal_min         : 0.0\n",
      "slice_duration  : 0.0\n",
      "toffset         : 0.0\n",
      "glmax           : 0\n",
      "glmin           : 0\n",
      "descrip         : b''\n",
      "aux_file        : b''\n",
      "qform_code      : aligned\n",
      "sform_code      : scanner\n",
      "quatern_b       : -0.0\n",
      "quatern_c       : 1.0\n",
      "quatern_d       : 0.0\n",
      "qoffset_x       : 90.0\n",
      "qoffset_y       : -126.0\n",
      "qoffset_z       : -72.0\n",
      "srow_x          : [-1. -0.  0. 90.]\n",
      "srow_y          : [  -0.    1.   -0. -126.]\n",
      "srow_z          : [  0.   0.   1. -72.]\n",
      "intent_name     : b''\n",
      "magic           : b'n+1'\n"
     ]
    }
   ],
   "source": [
    "mask = nib.load(mask_filename)\n",
    "mask_image = mask.get_data()\n",
    "print(mask.header)"
   ]
  },
  {
   "cell_type": "code",
   "execution_count": 12,
   "metadata": {
    "scrolled": true
   },
   "outputs": [
    {
     "ename": "ValueError",
     "evalue": "NumPy boolean array indexing assignment cannot assign 100000 input values to the 1762276 output values where the mask is true",
     "output_type": "error",
     "traceback": [
      "\u001b[1;31m---------------------------------------------------------------------------\u001b[0m",
      "\u001b[1;31mValueError\u001b[0m                                Traceback (most recent call last)",
      "\u001b[1;32m<ipython-input-12-90ab8c91fe60>\u001b[0m in \u001b[0;36m<module>\u001b[1;34m\u001b[0m\n\u001b[0;32m      3\u001b[0m \u001b[1;33m\u001b[0m\u001b[0m\n\u001b[0;32m      4\u001b[0m \u001b[0mpmap_image\u001b[0m \u001b[1;33m=\u001b[0m \u001b[0mmask_image\u001b[0m\u001b[1;33m.\u001b[0m\u001b[0mcopy\u001b[0m\u001b[1;33m(\u001b[0m\u001b[1;33m)\u001b[0m\u001b[1;33m\u001b[0m\u001b[1;33m\u001b[0m\u001b[0m\n\u001b[1;32m----> 5\u001b[1;33m \u001b[0mpmap_image\u001b[0m\u001b[1;33m[\u001b[0m\u001b[0mmask_image\u001b[0m\u001b[1;33m==\u001b[0m\u001b[1;36m1\u001b[0m\u001b[1;33m]\u001b[0m \u001b[1;33m=\u001b[0m \u001b[0mpmap\u001b[0m \u001b[1;33m*\u001b[0m \u001b[1;36m1000\u001b[0m\u001b[1;33m\u001b[0m\u001b[1;33m\u001b[0m\u001b[0m\n\u001b[0m\u001b[0;32m      6\u001b[0m \u001b[1;33m\u001b[0m\u001b[0m\n\u001b[0;32m      7\u001b[0m \u001b[0mpmap_header\u001b[0m \u001b[1;33m=\u001b[0m \u001b[0mmask\u001b[0m\u001b[1;33m.\u001b[0m\u001b[0mheader\u001b[0m\u001b[1;33m.\u001b[0m\u001b[0mcopy\u001b[0m\u001b[1;33m(\u001b[0m\u001b[1;33m)\u001b[0m\u001b[1;33m\u001b[0m\u001b[1;33m\u001b[0m\u001b[0m\n",
      "\u001b[1;31mValueError\u001b[0m: NumPy boolean array indexing assignment cannot assign 100000 input values to the 1762276 output values where the mask is true"
     ]
    }
   ],
   "source": [
    "# Load pmap from .mat file\n",
    "pmap_struct = loadmat(pmap_matfile)\n",
    "pmap = [p[0] for p in pmap_struct['pmap']]\n",
    "del pmap_struct\n",
    "\n",
    "# Scale\n",
    "pmap = np.array(pmap)*1000\n",
    "pmap[pmap<1] = 1\n",
    "pmap = list(pmap)\n",
    "\n",
    "# Put in image\n",
    "pmap_image = mask_image.copy()\n",
    "pmap_image[mask_image==1] = pmap \n",
    "\n",
    "# Remove single voxels\n",
    "pmap_binary = np.where(pmap_image<=50, 1, 0)\n",
    "from scipy.ndimage.morphology import binary_opening\n",
    "pmap_binary = binary_opening(pmap_binary)\n",
    "\n",
    "pmap_image = np.multiply(pmap_image, pmap_binary)\n",
    "pmap_image[pmap_image==0] = 1000\n",
    "\n",
    "\n",
    "# Save as nifti\n",
    "pmap_header = mask.header.copy()\n",
    "pmap_header.set_data_dtype(np.uint16)\n",
    "pmap_nii = nib.Nifti1Image(pmap_image, mask.affine, pmap_header)\n",
    "pmap_nii.to_filename(os.path.join(directory, 'Pmaps', 'Pmap_analytic_margin_nosinglevoxels_t1.nii.gz'))\n"
   ]
  }
 ],
 "metadata": {
  "kernelspec": {
   "display_name": "Python 3",
   "language": "python",
   "name": "python3"
  },
  "language_info": {
   "codemirror_mode": {
    "name": "ipython",
    "version": 3
   },
   "file_extension": ".py",
   "mimetype": "text/x-python",
   "name": "python",
   "nbconvert_exporter": "python",
   "pygments_lexer": "ipython3",
   "version": "3.7.9"
  }
 },
 "nbformat": 4,
 "nbformat_minor": 2
}
