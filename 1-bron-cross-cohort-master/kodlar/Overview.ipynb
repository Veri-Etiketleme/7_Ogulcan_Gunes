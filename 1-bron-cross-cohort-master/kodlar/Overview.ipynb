{
 "cells": [
  {
   "cell_type": "markdown",
   "metadata": {},
   "source": [
    "# Cross-Cohort Generalizability of Deep and Conventional Machine Learning for MRI-based Diagnosis and Prediction of Alzheimer’s Disease\n",
    "\n",
    "This notebook gives an overview of all code used for *Bron et al., Cross-Cohort Generalizability of Deep and Conventional Machine Learning for MRI-based Diagnosis and Prediction of Alzheimer’s Disease, 2020, submitted.*\n",
    "\n",
    "This repository is meant as a reference for all code regarding pre-processing, classification, visualization and statistic analysis performed for this publication. All code required for reproducing the analyses is included, however code was not written with reusability by others in mind. Access to private repositories referenced below is not needed for reproducing our analyses; links are included for the authors own reference. \n",
    "\n",
    "In case of any questions, please raise an issue in Gitlab. \n",
    "\n",
    "Esther Bron et al., 2020"
   ]
  },
  {
   "cell_type": "markdown",
   "metadata": {},
   "source": [
    "## Subject lists\n",
    "\n",
    "* ADNI: https://gitlab.com/radiology/neuro/bron-cross-cohort/-/blob/master/Subjects_lists/ADNI_subjectlist.csv\n",
    "* ADNI template set: https://gitlab.com/radiology/neuro/bron-cross-cohort/-/blob/master/Subjects_lists/ADNI_template_subjects.csv\n",
    "* PND: *available from the authors after approval by the PND study group*"
   ]
  },
  {
   "cell_type": "markdown",
   "metadata": {},
   "source": [
    "## MRI pre-processing\n",
    "\n",
    "Scripts should be called from study folder, e.g. 'ADNI'. Nifti files (.nii.gz) of non-uniformity corrected T1-weighted scans should be stored in '/ADNI/T1w/nuc'. Brain masks should be stored in '/ADNI/T1w/Hammers/\\*/brain_mask.nii.gz'. Tissue segmentation should be stored in '/ADNI/T1w/Tissue'.\n",
    "\n",
    "* Main script: https://gitlab.com/radiology/neuro/bron-cross-cohort/-/blob/master/MRI_preprocessing/pipeline_voxel_iris_subject.py\n",
    "* Registration paramarater files: https://gitlab.com/radiology/neuro/bron-cross-cohort/-/tree/master/MRI_preprocessing/params\n",
    "\n",
    "*Private repository: https://gitlab.com/radiology/neuro/iris-pipeline*\n",
    "\n"
   ]
  },
  {
   "cell_type": "markdown",
   "metadata": {},
   "source": [
    "## SVM classification\n",
    "\n",
    "Code in public repository: https://gitlab.com/radiology/neuro/classpy\n",
    "\n",
    "* Main script: https://gitlab.com/radiology/neuro/classpy/-/blob/master/do_classification.py\n",
    "* Data preparation: https://gitlab.com/radiology/neuro/classpy/-/tree/master/experiments\n",
    "* Config files: https://gitlab.com/radiology/neuro/classpy/-/tree/master/resources"
   ]
  },
  {
   "cell_type": "markdown",
   "metadata": {},
   "source": [
    "## SVM visualization\n",
    "\n",
    "* Main visualization script: https://gitlab.com/radiology/neuro/bron-cross-cohort/-/blob/master/SVM_visualization/analytic_svmpermtest_margins_adni2020.m\n",
    "* To save pmap as nifti: https://gitlab.com/radiology/neuro/bron-cross-cohort/-/blob/master/SVM_visualization/save_pmap_as_nii.ipynb\n",
    "\n",
    "*Private repository: https://gitlab.com/radiology/neuro/esther/do_classification/-/blob/master/analytic_svmpermtest_margins_adni2020.m*"
   ]
  },
  {
   "cell_type": "markdown",
   "metadata": {},
   "source": [
    "## CNN classification\n",
    "\n",
    "### Scripts\n",
    "__ADNI AD-CN:__\n",
    "* Main classification script: https://gitlab.com/radiology/neuro/bron-cross-cohort/-/blob/master/CNN_classification/main.py\n",
    "* Config file that should be imported: https://gitlab.com/radiology/neuro/bron-cross-cohort/-/blob/master/CNN_classification/config_ad.py\n",
    "* Example bash script to run classification: https://gitlab.com/radiology/neuro/bron-cross-cohort/-/blob/master/CNN_classification/bash_scripts/GM_WB.sh\n",
    "\n",
    "__ADNI MCIc-MCInc:__\n",
    "* Main classification script: https://gitlab.com/radiology/neuro/bron-cross-cohort/-/blob/master/CNN_classification/MCI_crossval.py\n",
    "* Config file that should be imported: https://gitlab.com/radiology/neuro/bron-cross-cohort/-/blob/master/CNN_classification/config_mci.py\n",
    "* Example bash script to run classification: https://gitlab.com/radiology/neuro/bron-cross-cohort/-/blob/master/CNN_classification/bash_scripts/GM_WB_MCI.sh\n",
    "\n",
    "__PND AD-SCD:__\n",
    "* Main classification script: https://gitlab.com/radiology/neuro/bron-cross-cohort/-/blob/master/CNN_classification/MCI_crossval.py\n",
    "* Config file that should be imported: https://gitlab.com/radiology/neuro/bron-cross-cohort/-/blob/master/CNN_classification/config_psi_ad.py\n",
    "* Example bash script to run classification: https://gitlab.com/radiology/neuro/bron-cross-cohort/-/blob/master/CNN_classification/bash_scripts/GM_WB_PSI.sh\n",
    "\n",
    "__PND MCIc-MCInc:__\n",
    "* Main classification script: https://gitlab.com/radiology/neuro/bron-cross-cohort/-/blob/master/CNN_classification/MCI_crossval.py\n",
    "* Config file that should be imported: https://gitlab.com/radiology/neuro/bron-cross-cohort/-/blob/master/CNN_classification/config_psi_mci.py\n",
    "* Example bash script to run classification: https://gitlab.com/radiology/neuro/bron-cross-cohort/-/blob/master/CNN_classification/bash_scripts/GM_WB_PSI_MCI.sh\n",
    "\n",
    "\n",
    "### Trained models\n",
    "__Models trained on all ADNI AD-CN data:__\n",
    "* T1-weighted images: https://gitlab.com/radiology/neuro/bron-cross-cohort/-/tree/master/CNN_classification/8955_T1_WB_AD_allCNN\n",
    "* GM modulated maps: https://gitlab.com/radiology/neuro/bron-cross-cohort/-/tree/master/CNN_classification/7243_GM_WB_AD_allCNN\n",
    "\n",
    "*Private repository: https://gitlab.com/radiology/neuro/CNN-for-AD-classification*"
   ]
  },
  {
   "cell_type": "markdown",
   "metadata": {},
   "source": [
    "## CNN visualization\n",
    "\n",
    "* Main visualization script: https://gitlab.com/radiology/neuro/bron-cross-cohort/-/blob/master/CNN_visualization/vis_main.py\n",
    "* Config file that should be imported: https://gitlab.com/radiology/neuro/bron-cross-cohort/-/blob/master/CNN_visualization/vis_config.py\n",
    "* Bash script to run classfication: https://gitlab.com/radiology/neuro/bron-cross-cohort/-/blob/master/CNN_visualization/visualization.sh\n",
    "\n",
    "*Private repository: https://gitlab.com/radiology/neuro/CNN-for-AD-classification/-/tree/master/visualization*"
   ]
  },
  {
   "cell_type": "markdown",
   "metadata": {},
   "source": [
    "## Plots\n",
    "\n",
    "The notebooks below were used to make the Figure 2, 3, and 4 in the paper. This includes importing the results from SVM and CNN based classification, computing confidence intervals by bootstrapping (Fig. 3 and 4) and performing McNemar tests (Fig. 3. and 4)\n",
    "\n",
    "* Fig. 2: https://gitlab.com/radiology/neuro/bron-cross-cohort/-/blob/master/Plots/Plot1_ADCN_CNNSVM_CI.ipynb\n",
    "* Fig. 3: https://gitlab.com/radiology/neuro/bron-cross-cohort/-/blob/master/Plots/Plot2_MCI_CNNSVM.ipynb\n",
    "* Fig. 4: https://gitlab.com/radiology/neuro/bron-cross-cohort/-/blob/master/Plots/Plot3_PSI_CNNSVM.ipynb\n",
    "\n",
    "*Private repository: https://gitlab.com/radiology/neuro/esther/adni-psi-experiments*"
   ]
  },
  {
   "cell_type": "markdown",
   "metadata": {},
   "source": [
    "## Manuscript\n",
    "\n",
    "*Private repository: https://github.com/bronesther/ADNI-Parelsnoer*"
   ]
  }
 ],
 "metadata": {
  "kernelspec": {
   "display_name": "Python 3",
   "language": "python",
   "name": "python3"
  },
  "language_info": {
   "codemirror_mode": {
    "name": "ipython",
    "version": 3
   },
   "file_extension": ".py",
   "mimetype": "text/x-python",
   "name": "python",
   "nbconvert_exporter": "python",
   "pygments_lexer": "ipython3",
   "version": "3.7.4"
  }
 },
 "nbformat": 4,
 "nbformat_minor": 4
}
