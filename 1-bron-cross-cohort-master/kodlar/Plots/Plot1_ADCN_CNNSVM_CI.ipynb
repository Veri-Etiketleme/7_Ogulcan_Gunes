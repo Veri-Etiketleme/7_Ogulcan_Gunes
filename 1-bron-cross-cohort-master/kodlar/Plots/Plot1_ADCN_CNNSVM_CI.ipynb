{
 "cells": [
  {
   "cell_type": "code",
   "execution_count": 5,
   "metadata": {},
   "outputs": [
    {
     "name": "stdout",
     "output_type": "stream",
     "text": [
      "['X:\\\\scratch\\\\ADNI\\\\Results\\\\ADNI-T1-Vox-2020-10-27-14-18-38\\\\results.pickle', 'X:\\\\scratch\\\\ADNI\\\\Results\\\\ADNI-Vox-2020-10-27-14-53-38\\\\results.pickle']\n",
      "dict_keys(['DataIn', 'DataTest', 'Labels', 'Factors', 'Biomarkers_exclude', 'ResultsFile', 'SaveResults', 'TempDirectory', 'InputTempFile', 'Type', 'TestClass', 'Iterations', 'N_splits', 'test_size', 'Kernel', 'DataDescription', 'UseSavedModel', 'DataInDirectory', 'DataTestDirectory', 'ResultsFolder', 'Timepoints', 'conf', 'best_c_values', 'accs', 'aucs', 'c_mean', 'c_std', 'acc_mean', 'acc_std', 'acc_95ci', 'auc_mean', 'auc_std', 'auc_95ci', 'computation_time[s]', 'nFeatures', 'nTrain', 'nClasses', 'ResultsDump', 'train', 'test', 'SubjectID'])\n",
      "20\n",
      "dict_keys(['DataIn', 'DataTest', 'Labels', 'Factors', 'Biomarkers_exclude', 'ResultsFile', 'SaveResults', 'TempDirectory', 'InputTempFile', 'Type', 'TestClass', 'Iterations', 'N_splits', 'test_size', 'Kernel', 'DataDescription', 'UseSavedModel', 'DataInDirectory', 'DataTestDirectory', 'ResultsFolder', 'Timepoints', 'conf', 'best_c_values', 'accs', 'aucs', 'c_mean', 'c_std', 'acc_mean', 'acc_std', 'acc_95ci', 'auc_mean', 'auc_std', 'auc_95ci', 'computation_time[s]', 'nFeatures', 'nTrain', 'nClasses', 'ResultsDump', 'train', 'test', 'SubjectID'])\n",
      "20\n",
      "[0.800862556561086, 0.9395644796380092]\n",
      "[(0.7646505692143106, 0.8370745439078613), (0.9240644240137523, 0.955064535262266)]\n",
      "[0.7686046511627906, 0.866860465116279]\n",
      "[(0.7266144279241544, 0.8105948744014269), (0.8423743151982299, 0.8913466150343281)]\n"
     ]
    }
   ],
   "source": [
    "# load SVM results\n",
    "import os\n",
    "import glob\n",
    "import pickle\n",
    "\n",
    "svm_results_dir = 'X:\\\\scratch\\\\ADNI\\\\Results'\n",
    "svm_results_files = [ file for file in glob.glob(os.path.join(svm_results_dir,'ADNI*Vox-2020*','results.pickle'))]\n",
    "print(svm_results_files)\n",
    "\n",
    "features = {'/scratch/ebron/ADNI/adni_all_t1_baseline_masked.csv': 'T1-weighted images',\n",
    "            '/scratch/ebron/ADNI/adni_all_baseline_masked.csv': 'Modulated GM maps'            \n",
    "            }\n",
    "\n",
    "# #Remove results with other random seed than 0\n",
    "# for svm_results_file in svm_results_files.copy():\n",
    "#     p = pickle.load(open(svm_results_file,'rb'))\n",
    "#     print(p)\n",
    "#     if 'random_state' in p.keys():\n",
    "#         if p['random_state']!=0:\n",
    "#             svm_results_files.remove(svm_results_file)\n",
    "#             continue\n",
    "#     if 'Labels' in p.keys():\n",
    "#         if 'MCIc' in p['Labels']:\n",
    "#             svm_results_files.remove(svm_results_file)\n",
    "#             continue\n",
    "#     if p['N_splits']!=20:\n",
    "#         svm_results_files.remove(svm_results_file)\n",
    "#         continue\n",
    "        \n",
    "#     if not p['DataIn'][0] in features:\n",
    "#         svm_results_files.remove(svm_results_file)\n",
    "\n",
    "svm_auc_means, svm_auc_cis, svm_acc_means, svm_acc_cis, svm_features = [], [], [], [], [] \n",
    "for svm_results_file in svm_results_files:\n",
    "    p = pickle.load(open(svm_results_file,'rb'))\n",
    "    print(p.keys())\n",
    "    print(p['N_splits'])\n",
    "    \n",
    "    svm_auc_means.append(p['auc_mean'])\n",
    "    svm_auc_cis.append(p['auc_95ci'])\n",
    "    svm_acc_means.append(p['acc_mean'])\n",
    "    svm_acc_cis.append(p['acc_95ci'])\n",
    "    svm_features.append(features[p['DataIn'][0]])\n",
    "    svm_label = f\"SVM\" #with {p['N_splits']} iterations\n",
    " \n",
    "print(svm_auc_means)\n",
    "print(svm_auc_cis)\n",
    "print(svm_acc_means)\n",
    "print(svm_acc_cis)"
   ]
  },
  {
   "cell_type": "code",
   "execution_count": 3,
   "metadata": {
    "scrolled": true
   },
   "outputs": [
    {
     "ename": "FileNotFoundError",
     "evalue": "[Errno 2] No such file or directory: 'W:results\\\\4869_T1_WB_AD_allCNN\\\\results.npy'",
     "output_type": "error",
     "traceback": [
      "\u001b[1;31m---------------------------------------------------------------------------\u001b[0m",
      "\u001b[1;31mFileNotFoundError\u001b[0m                         Traceback (most recent call last)",
      "\u001b[1;32m<ipython-input-3-9d2c422d9fee>\u001b[0m in \u001b[0;36m<module>\u001b[1;34m\u001b[0m\n\u001b[0;32m     17\u001b[0m \u001b[1;33m\u001b[0m\u001b[0m\n\u001b[0;32m     18\u001b[0m \u001b[1;32mfor\u001b[0m \u001b[0mexp\u001b[0m \u001b[1;32min\u001b[0m \u001b[0mexperiments\u001b[0m\u001b[1;33m:\u001b[0m\u001b[1;33m\u001b[0m\u001b[1;33m\u001b[0m\u001b[0m\n\u001b[1;32m---> 19\u001b[1;33m     \u001b[0mresults\u001b[0m \u001b[1;33m=\u001b[0m \u001b[0mnp\u001b[0m\u001b[1;33m.\u001b[0m\u001b[0mload\u001b[0m\u001b[1;33m(\u001b[0m\u001b[0mos\u001b[0m\u001b[1;33m.\u001b[0m\u001b[0mpath\u001b[0m\u001b[1;33m.\u001b[0m\u001b[0mjoin\u001b[0m\u001b[1;33m(\u001b[0m\u001b[1;34m'W:'\u001b[0m\u001b[1;33m,\u001b[0m\u001b[1;34m'results'\u001b[0m\u001b[1;33m,\u001b[0m \u001b[0mexp\u001b[0m\u001b[1;33m,\u001b[0m \u001b[1;34m'results.npy'\u001b[0m\u001b[1;33m)\u001b[0m\u001b[1;33m)\u001b[0m\u001b[1;33m.\u001b[0m\u001b[0mitem\u001b[0m\u001b[1;33m(\u001b[0m\u001b[1;33m)\u001b[0m\u001b[1;33m[\u001b[0m\u001b[1;34m'test'\u001b[0m\u001b[1;33m]\u001b[0m\u001b[1;33m\u001b[0m\u001b[1;33m\u001b[0m\u001b[0m\n\u001b[0m\u001b[0;32m     20\u001b[0m     \u001b[0mtest_results\u001b[0m \u001b[1;33m=\u001b[0m \u001b[0mnp\u001b[0m\u001b[1;33m.\u001b[0m\u001b[0mload\u001b[0m\u001b[1;33m(\u001b[0m\u001b[0mos\u001b[0m\u001b[1;33m.\u001b[0m\u001b[0mpath\u001b[0m\u001b[1;33m.\u001b[0m\u001b[0mjoin\u001b[0m\u001b[1;33m(\u001b[0m\u001b[1;34m'W:'\u001b[0m\u001b[1;33m,\u001b[0m\u001b[1;34m'results'\u001b[0m\u001b[1;33m,\u001b[0m \u001b[0mexp\u001b[0m\u001b[1;33m,\u001b[0m \u001b[1;34m'test_results.npy'\u001b[0m\u001b[1;33m)\u001b[0m\u001b[1;33m)\u001b[0m\u001b[1;33m.\u001b[0m\u001b[0mitem\u001b[0m\u001b[1;33m(\u001b[0m\u001b[1;33m)\u001b[0m\u001b[1;33m\u001b[0m\u001b[1;33m\u001b[0m\u001b[0m\n\u001b[0;32m     21\u001b[0m     \u001b[0mcnn_auc_means\u001b[0m\u001b[1;33m.\u001b[0m\u001b[0mappend\u001b[0m\u001b[1;33m(\u001b[0m\u001b[0mtest_results\u001b[0m\u001b[1;33m[\u001b[0m\u001b[1;34m'auc_mean'\u001b[0m\u001b[1;33m]\u001b[0m\u001b[1;33m)\u001b[0m\u001b[1;33m\u001b[0m\u001b[1;33m\u001b[0m\u001b[0m\n",
      "\u001b[1;32m<ipython-input-3-9d2c422d9fee>\u001b[0m in \u001b[0;36m<lambda>\u001b[1;34m(*a, **k)\u001b[0m\n\u001b[0;32m      8\u001b[0m \u001b[1;33m\u001b[0m\u001b[0m\n\u001b[0;32m      9\u001b[0m \u001b[1;31m# modify the default parameters of np.load\u001b[0m\u001b[1;33m\u001b[0m\u001b[1;33m\u001b[0m\u001b[1;33m\u001b[0m\u001b[0m\n\u001b[1;32m---> 10\u001b[1;33m \u001b[0mnp\u001b[0m\u001b[1;33m.\u001b[0m\u001b[0mload\u001b[0m \u001b[1;33m=\u001b[0m \u001b[1;32mlambda\u001b[0m \u001b[1;33m*\u001b[0m\u001b[0ma\u001b[0m\u001b[1;33m,\u001b[0m\u001b[1;33m**\u001b[0m\u001b[0mk\u001b[0m\u001b[1;33m:\u001b[0m \u001b[0mnp_load_old\u001b[0m\u001b[1;33m(\u001b[0m\u001b[1;33m*\u001b[0m\u001b[0ma\u001b[0m\u001b[1;33m,\u001b[0m \u001b[0mallow_pickle\u001b[0m\u001b[1;33m=\u001b[0m\u001b[1;32mTrue\u001b[0m\u001b[1;33m,\u001b[0m \u001b[1;33m**\u001b[0m\u001b[0mk\u001b[0m\u001b[1;33m)\u001b[0m\u001b[1;33m\u001b[0m\u001b[1;33m\u001b[0m\u001b[0m\n\u001b[0m\u001b[0;32m     11\u001b[0m \u001b[1;33m\u001b[0m\u001b[0m\n\u001b[0;32m     12\u001b[0m \u001b[0mcnn_auc_means\u001b[0m\u001b[1;33m,\u001b[0m \u001b[0mcnn_auc_cis\u001b[0m\u001b[1;33m,\u001b[0m \u001b[0mcnn_acc_means\u001b[0m\u001b[1;33m,\u001b[0m \u001b[0mcnn_acc_cis\u001b[0m\u001b[1;33m,\u001b[0m \u001b[0mcnn_features\u001b[0m \u001b[1;33m=\u001b[0m \u001b[1;33m[\u001b[0m\u001b[1;33m]\u001b[0m\u001b[1;33m,\u001b[0m \u001b[1;33m[\u001b[0m\u001b[1;33m]\u001b[0m\u001b[1;33m,\u001b[0m \u001b[1;33m[\u001b[0m\u001b[1;33m]\u001b[0m\u001b[1;33m,\u001b[0m \u001b[1;33m[\u001b[0m\u001b[1;33m]\u001b[0m\u001b[1;33m,\u001b[0m \u001b[1;33m[\u001b[0m\u001b[1;33m]\u001b[0m\u001b[1;33m\u001b[0m\u001b[1;33m\u001b[0m\u001b[0m\n",
      "\u001b[1;32m~\\Anaconda3\\envs\\sklearn0.19\\lib\\site-packages\\numpy\\lib\\npyio.py\u001b[0m in \u001b[0;36mload\u001b[1;34m(file, mmap_mode, allow_pickle, fix_imports, encoding)\u001b[0m\n\u001b[0;32m    382\u001b[0m     \u001b[0mown_fid\u001b[0m \u001b[1;33m=\u001b[0m \u001b[1;32mFalse\u001b[0m\u001b[1;33m\u001b[0m\u001b[1;33m\u001b[0m\u001b[0m\n\u001b[0;32m    383\u001b[0m     \u001b[1;32mif\u001b[0m \u001b[0misinstance\u001b[0m\u001b[1;33m(\u001b[0m\u001b[0mfile\u001b[0m\u001b[1;33m,\u001b[0m \u001b[0mbasestring\u001b[0m\u001b[1;33m)\u001b[0m\u001b[1;33m:\u001b[0m\u001b[1;33m\u001b[0m\u001b[1;33m\u001b[0m\u001b[0m\n\u001b[1;32m--> 384\u001b[1;33m         \u001b[0mfid\u001b[0m \u001b[1;33m=\u001b[0m \u001b[0mopen\u001b[0m\u001b[1;33m(\u001b[0m\u001b[0mfile\u001b[0m\u001b[1;33m,\u001b[0m \u001b[1;34m\"rb\"\u001b[0m\u001b[1;33m)\u001b[0m\u001b[1;33m\u001b[0m\u001b[1;33m\u001b[0m\u001b[0m\n\u001b[0m\u001b[0;32m    385\u001b[0m         \u001b[0mown_fid\u001b[0m \u001b[1;33m=\u001b[0m \u001b[1;32mTrue\u001b[0m\u001b[1;33m\u001b[0m\u001b[1;33m\u001b[0m\u001b[0m\n\u001b[0;32m    386\u001b[0m     \u001b[1;32melif\u001b[0m \u001b[0mis_pathlib_path\u001b[0m\u001b[1;33m(\u001b[0m\u001b[0mfile\u001b[0m\u001b[1;33m)\u001b[0m\u001b[1;33m:\u001b[0m\u001b[1;33m\u001b[0m\u001b[1;33m\u001b[0m\u001b[0m\n",
      "\u001b[1;31mFileNotFoundError\u001b[0m: [Errno 2] No such file or directory: 'W:results\\\\4869_T1_WB_AD_allCNN\\\\results.npy'"
     ]
    }
   ],
   "source": [
    "# load CNN results\n",
    "\n",
    "import numpy as np\n",
    "import os\n",
    "\n",
    "# save np.load\n",
    "np_load_old = np.load\n",
    "\n",
    "# modify the default parameters of np.load\n",
    "np.load = lambda *a,**k: np_load_old(*a, allow_pickle=True, **k)\n",
    "\n",
    "cnn_auc_means, cnn_auc_cis, cnn_acc_means, cnn_acc_cis, cnn_features = [], [], [], [], []  \n",
    "features_cnn = {'T1': 'T1-weighted images','GM': 'Modulated GM maps'\n",
    "            }\n",
    "\n",
    "experiments=['4869_T1_WB_AD_allCNN','4799_GM_WB_AD_allCNN']\n",
    "\n",
    "for exp in experiments:\n",
    "    results = np.load(os.path.join('W:','results', exp, 'results.npy')).item()['test']\n",
    "    test_results = np.load(os.path.join('W:','results', exp, 'test_results.npy')).item()\n",
    "    cnn_auc_means.append(test_results['auc_mean'])\n",
    "    cnn_auc_cis.append(test_results['auc_95ci'])\n",
    "    cnn_acc_means.append(test_results['acc_mean'])\n",
    "    cnn_acc_cis.append(test_results['acc_95ci'])\n",
    "    cnn_features_temp = exp.split('_')[1]\n",
    "    cnn_features.append(features_cnn[cnn_features_temp])\n",
    "    \n",
    "cnn_label = f\"CNN\" #with {len(results['auc'])} iterations\n",
    "\n",
    "print(results.keys())\n",
    "print(cnn_auc_means)\n",
    "print(cnn_auc_cis)\n",
    "print(cnn_features)\n",
    "\n",
    "# restore np.load for future normal usage\n",
    "np.load = np_load_old\n"
   ]
  },
  {
   "cell_type": "code",
   "execution_count": 3,
   "metadata": {},
   "outputs": [],
   "source": [
    "# Function for plot labels\n",
    "def autolabel(rects, xpos='center',decimals=2):\n",
    "    \"\"\"\n",
    "    Attach a text label above each bar in *rects*, displaying its height.\n",
    "\n",
    "    *xpos* indicates which side to place the text w.r.t. the center of\n",
    "    the bar. It can be one of the following {'center', 'right', 'left'}.\n",
    "    \"\"\"\n",
    "\n",
    "    ha = {'center': 'center', 'right': 'left', 'left': 'right'}\n",
    "    offset = {'center': 0, 'right': 1, 'left': -1}\n",
    "\n",
    "    for rect in rects:\n",
    "        height = rect.get_height()\n",
    "        float_format = '{:.' + str(decimals) + 'f}'\n",
    "        ax.annotate(float_format.format(height),\n",
    "                    xy=(rect.get_x() + rect.get_width() / 2, height),\n",
    "                    xytext=(offset[xpos]*3, 3),  # use 3 points offset\n",
    "                    textcoords=\"offset points\",  # in both directions\n",
    "                    ha=ha[xpos], va='bottom')"
   ]
  },
  {
   "cell_type": "code",
   "execution_count": 5,
   "metadata": {},
   "outputs": [
    {
     "name": "stdout",
     "output_type": "stream",
     "text": [
      "[0.8976244343891402, 0.9331447963800905]\n"
     ]
    },
    {
     "data": {
      "image/png": "[encoded data removed]",
      "text/plain": [
       "<Figure size 432x288 with 1 Axes>"
      ]
     },
     "metadata": {
      "needs_background": "light"
     },
     "output_type": "display_data"
    }
   ],
   "source": [
    "# Make plot\n",
    "import matplotlib\n",
    "import matplotlib.pyplot as plt\n",
    "import numpy as np\n",
    "from datetime import datetime\n",
    "\n",
    "from itertools import repeat\n",
    "\n",
    "what='AUC'\n",
    "\n",
    "if what=='AUC':\n",
    "    svm_auc_means = svm_auc_means+list(repeat(0, len(cnn_auc_means)-len(svm_auc_means))) \n",
    "    cnn_auc_means = cnn_auc_means+list(repeat(0, len(svm_auc_means)-len(cnn_auc_means)))\n",
    "\n",
    "    svm_auc_cis = svm_auc_cis+list(repeat([0,0], len(cnn_auc_cis)-len(svm_auc_cis))) \n",
    "    cnn_auc_cis = cnn_auc_cis+list(repeat([0,0], len(svm_auc_cis)-len(cnn_auc_cis)))\n",
    "else:\n",
    "    svm_auc_means = svm_acc_means+list(repeat(0, len(cnn_acc_means)-len(svm_acc_means))) \n",
    "    cnn_auc_means = cnn_acc_means+list(repeat(0, len(svm_acc_means)-len(cnn_acc_means)))\n",
    "\n",
    "    svm_auc_cis = svm_acc_cis+list(repeat([0,0], len(cnn_acc_cis)-len(svm_acc_cis))) \n",
    "    cnn_auc_cis = cnn_acc_cis+list(repeat([0,0], len(svm_acc_cis)-len(cnn_acc_cis)))    \n",
    "\n",
    "ind = np.arange(len(svm_auc_means))  # the x locations for the groups\n",
    "width = 0.35  # the width of the bars\n",
    "\n",
    "svm_auc_err = [svm_auc_means[i] - svm_auc_cis[i][1] for i in range(len(svm_auc_cis))]\n",
    "cnn_auc_err = [cnn_auc_means[i] - cnn_auc_cis[i][1] for i in range(len(cnn_auc_cis))]\n",
    "\n",
    "print(cnn_auc_means)\n",
    "\n",
    "fig, ax = plt.subplots()\n",
    "rects1 = ax.bar(ind - width/2, svm_auc_means, width,  yerr=svm_auc_err,\n",
    "                label=svm_label)\n",
    "rects2 = ax.bar(ind + width/2, cnn_auc_means, width,  yerr=cnn_auc_err,\n",
    "                label=cnn_label)\n",
    "\n",
    "# Add some text for labels, title and custom x-axis tick labels, etc.\n",
    "if what=='AUC':\n",
    "    ax.set_ylabel('Area-under-the-ROC-curve (AUC)')\n",
    "else:\n",
    "    ax.set_ylabel('Accuracy')\n",
    "ax.set_title('ADNI AD-CN')\n",
    "ax.set_xticks(ind)\n",
    "ax.set_xticklabels(cnn_features)\n",
    "ax.set_ylim([0.5,1])\n",
    "ax.grid(axis='y', linestyle='dotted')\n",
    "lgd = ax.legend(loc='upper center', bbox_to_anchor=(0.25, 1), ncol=2)\n",
    "\n",
    "\n",
    "ax.spines['top'].set_visible(False)\n",
    "ax.spines['right'].set_visible(False)\n",
    "\n",
    "autolabel(rects1, \"right\", 3)\n",
    "autolabel(rects2, \"right\", 3)\n",
    "\n",
    "#fig.tight_layout()\n",
    "\n",
    "plt.show()\n",
    "\n",
    "# Converting datetime object to string\n",
    "dateTimeObj = datetime.now()\n",
    " \n",
    "timestampStr = dateTimeObj.strftime(\"%d-%b-%Y_%H-%M\")\n",
    "\n",
    "if what=='AUC':\n",
    "    figure_name = f'Plot1_ADCN_CNNSVM_CI_{timestampStr}'\n",
    "else:\n",
    "    figure_name = f'Plot1_ADCN_CNNSVM_Acc_CI_{timestampStr}'\n",
    "fig.savefig(figure_name, dpi=300, facecolor='w', edgecolor='w', bbox_extra_artists=(lgd,), bbox_inches='tight')"
   ]
  },
  {
   "cell_type": "code",
   "execution_count": 4,
   "metadata": {},
   "outputs": [
    {
     "ename": "NameError",
     "evalue": "name 'df_svm' is not defined",
     "output_type": "error",
     "traceback": [
      "\u001b[1;31m---------------------------------------------------------------------------\u001b[0m",
      "\u001b[1;31mNameError\u001b[0m                                 Traceback (most recent call last)",
      "\u001b[1;32m<ipython-input-4-ff3ed4e8afea>\u001b[0m in \u001b[0;36m<module>\u001b[1;34m\u001b[0m\n\u001b[1;32m----> 1\u001b[1;33m \u001b[0mdf_svm\u001b[0m\u001b[1;33m\u001b[0m\u001b[1;33m\u001b[0m\u001b[0m\n\u001b[0m",
      "\u001b[1;31mNameError\u001b[0m: name 'df_svm' is not defined"
     ]
    }
   ],
   "source": [
    "df_svm"
   ]
  },
  {
   "cell_type": "code",
   "execution_count": null,
   "metadata": {},
   "outputs": [],
   "source": []
  }
 ],
 "metadata": {
  "kernelspec": {
   "display_name": "Python 3",
   "language": "python",
   "name": "python3"
  },
  "language_info": {
   "codemirror_mode": {
    "name": "ipython",
    "version": 3
   },
   "file_extension": ".py",
   "mimetype": "text/x-python",
   "name": "python",
   "nbconvert_exporter": "python",
   "pygments_lexer": "ipython3",
   "version": "3.7.9"
  }
 },
 "nbformat": 4,
 "nbformat_minor": 2
}
