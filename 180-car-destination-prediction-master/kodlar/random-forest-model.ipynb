{
 "cells": [
  {
   "cell_type": "code",
   "execution_count": 46,
   "metadata": {
    "collapsed": true
   },
   "outputs": [],
   "source": [
    "import pandas as pd\n",
    "import numpy as np\n",
    "import matplotlib.pyplot as plt\n",
    "import geohash"
   ]
  },
  {
   "cell_type": "code",
   "execution_count": 47,
   "metadata": {},
   "outputs": [
    {
     "data": {
      "text/html": [
       "<div>\n",
       "<style>\n",
       "    .dataframe thead tr:only-child th {\n",
       "        text-align: right;\n",
       "    }\n",
       "\n",
       "    .dataframe thead th {\n",
       "        text-align: left;\n",
       "    }\n",
       "\n",
       "    .dataframe tbody tr th {\n",
       "        vertical-align: top;\n",
       "    }\n",
       "</style>\n",
       "<table border=\"1\" class=\"dataframe\">\n",
       "  <thead>\n",
       "    <tr style=\"text-align: right;\">\n",
       "      <th></th>\n",
       "      <th>year</th>\n",
       "      <th>month</th>\n",
       "      <th>day</th>\n",
       "      <th>time_cat</th>\n",
       "      <th>time_num</th>\n",
       "      <th>time_cos</th>\n",
       "      <th>time_sin</th>\n",
       "      <th>day_cat</th>\n",
       "      <th>day_num</th>\n",
       "      <th>day_cos</th>\n",
       "      <th>day_sin</th>\n",
       "      <th>weekend</th>\n",
       "      <th>x_start</th>\n",
       "      <th>y_start</th>\n",
       "      <th>z_start</th>\n",
       "      <th>location_start</th>\n",
       "      <th>location_end</th>\n",
       "    </tr>\n",
       "  </thead>\n",
       "  <tbody>\n",
       "    <tr>\n",
       "      <th>0</th>\n",
       "      <td>2017</td>\n",
       "      <td>3</td>\n",
       "      <td>22</td>\n",
       "      <td>16.833333333333332:49.999999999999886</td>\n",
       "      <td>0.777778</td>\n",
       "      <td>0.173648</td>\n",
       "      <td>-0.984808</td>\n",
       "      <td>Wednesday</td>\n",
       "      <td>0.396825</td>\n",
       "      <td>-0.797133</td>\n",
       "      <td>0.603804</td>\n",
       "      <td>0</td>\n",
       "      <td>-0.460713</td>\n",
       "      <td>-0.120608</td>\n",
       "      <td>0.879316</td>\n",
       "      <td>eyckx6e80</td>\n",
       "      <td>eycs8byzz</td>\n",
       "    </tr>\n",
       "    <tr>\n",
       "      <th>1</th>\n",
       "      <td>2017</td>\n",
       "      <td>5</td>\n",
       "      <td>24</td>\n",
       "      <td>12.333333333333334:20.0</td>\n",
       "      <td>0.569444</td>\n",
       "      <td>-0.906308</td>\n",
       "      <td>-0.422618</td>\n",
       "      <td>Wednesday</td>\n",
       "      <td>0.367063</td>\n",
       "      <td>-0.670981</td>\n",
       "      <td>0.741474</td>\n",
       "      <td>0</td>\n",
       "      <td>0.612977</td>\n",
       "      <td>-0.738237</td>\n",
       "      <td>-0.281542</td>\n",
       "      <td>u0qjdqxen</td>\n",
       "      <td>u0qjf9jxq</td>\n",
       "    </tr>\n",
       "    <tr>\n",
       "      <th>2</th>\n",
       "      <td>2017</td>\n",
       "      <td>5</td>\n",
       "      <td>24</td>\n",
       "      <td>12.35:21.0</td>\n",
       "      <td>0.570833</td>\n",
       "      <td>-0.902585</td>\n",
       "      <td>-0.430511</td>\n",
       "      <td>Wednesday</td>\n",
       "      <td>0.367262</td>\n",
       "      <td>-0.671905</td>\n",
       "      <td>0.740637</td>\n",
       "      <td>0</td>\n",
       "      <td>0.612977</td>\n",
       "      <td>-0.738237</td>\n",
       "      <td>-0.281542</td>\n",
       "      <td>u0qjdqxen</td>\n",
       "      <td>u0qjf9jxq</td>\n",
       "    </tr>\n",
       "    <tr>\n",
       "      <th>3</th>\n",
       "      <td>2017</td>\n",
       "      <td>5</td>\n",
       "      <td>24</td>\n",
       "      <td>12.35:21.0</td>\n",
       "      <td>0.570833</td>\n",
       "      <td>-0.902585</td>\n",
       "      <td>-0.430511</td>\n",
       "      <td>Wednesday</td>\n",
       "      <td>0.367262</td>\n",
       "      <td>-0.671905</td>\n",
       "      <td>0.740637</td>\n",
       "      <td>0</td>\n",
       "      <td>0.612977</td>\n",
       "      <td>-0.738237</td>\n",
       "      <td>-0.281542</td>\n",
       "      <td>u0qjdqxen</td>\n",
       "      <td>u0qjf9jxq</td>\n",
       "    </tr>\n",
       "    <tr>\n",
       "      <th>4</th>\n",
       "      <td>2017</td>\n",
       "      <td>5</td>\n",
       "      <td>24</td>\n",
       "      <td>12.35:21.0</td>\n",
       "      <td>0.570833</td>\n",
       "      <td>-0.902585</td>\n",
       "      <td>-0.430511</td>\n",
       "      <td>Wednesday</td>\n",
       "      <td>0.367262</td>\n",
       "      <td>-0.671905</td>\n",
       "      <td>0.740637</td>\n",
       "      <td>0</td>\n",
       "      <td>0.612977</td>\n",
       "      <td>-0.738237</td>\n",
       "      <td>-0.281542</td>\n",
       "      <td>u0qjdqxen</td>\n",
       "      <td>u0qjf9jxq</td>\n",
       "    </tr>\n",
       "  </tbody>\n",
       "</table>\n",
       "</div>"
      ],
      "text/plain": [
       "   year  month  day                               time_cat  time_num  \\\n",
       "0  2017      3   22  16.833333333333332:49.999999999999886  0.777778   \n",
       "1  2017      5   24                12.333333333333334:20.0  0.569444   \n",
       "2  2017      5   24                             12.35:21.0  0.570833   \n",
       "3  2017      5   24                             12.35:21.0  0.570833   \n",
       "4  2017      5   24                             12.35:21.0  0.570833   \n",
       "\n",
       "   time_cos  time_sin    day_cat   day_num   day_cos   day_sin  weekend  \\\n",
       "0  0.173648 -0.984808  Wednesday  0.396825 -0.797133  0.603804        0   \n",
       "1 -0.906308 -0.422618  Wednesday  0.367063 -0.670981  0.741474        0   \n",
       "2 -0.902585 -0.430511  Wednesday  0.367262 -0.671905  0.740637        0   \n",
       "3 -0.902585 -0.430511  Wednesday  0.367262 -0.671905  0.740637        0   \n",
       "4 -0.902585 -0.430511  Wednesday  0.367262 -0.671905  0.740637        0   \n",
       "\n",
       "    x_start   y_start   z_start location_start location_end  \n",
       "0 -0.460713 -0.120608  0.879316      eyckx6e80    eycs8byzz  \n",
       "1  0.612977 -0.738237 -0.281542      u0qjdqxen    u0qjf9jxq  \n",
       "2  0.612977 -0.738237 -0.281542      u0qjdqxen    u0qjf9jxq  \n",
       "3  0.612977 -0.738237 -0.281542      u0qjdqxen    u0qjf9jxq  \n",
       "4  0.612977 -0.738237 -0.281542      u0qjdqxen    u0qjf9jxq  "
      ]
     },
     "execution_count": 47,
     "metadata": {},
     "output_type": "execute_result"
    }
   ],
   "source": [
    "featuredDataset = pd.read_csv('featured-dataset.csv')\n",
    "featuredDataset = featuredDataset.drop(featuredDataset.columns[0], axis=1)\n",
    "featuredDataset.head(5)"
   ]
  },
  {
   "cell_type": "code",
   "execution_count": 48,
   "metadata": {},
   "outputs": [
    {
     "data": {
      "text/plain": [
       "(1537, 17)"
      ]
     },
     "execution_count": 48,
     "metadata": {},
     "output_type": "execute_result"
    }
   ],
   "source": [
    "featuredDataset.shape"
   ]
  },
  {
   "cell_type": "markdown",
   "metadata": {},
   "source": [
    "### Feature extraction"
   ]
  },
  {
   "cell_type": "code",
   "execution_count": 49,
   "metadata": {
    "collapsed": true
   },
   "outputs": [],
   "source": [
    "\n",
    "# Get the longitude and latitude from the geohash\n",
    "def decodegeo(geo, which):\n",
    "    if len(geo) >= 6:\n",
    "        geodecoded = geohash.decode(geo)\n",
    "        return geodecoded[which]\n",
    "    else:\n",
    "        return 0\n",
    "    \n",
    "def further_data_prep(df):  \n",
    "\n",
    "    df['start_lat'] = df['location_start'].apply(lambda geo: decodegeo(geo, 0))\n",
    "    df['start_lon'] = df['location_start'].apply(lambda geo: decodegeo(geo, 1))\n",
    "    df['end_lat'] = df['location_end'].apply(lambda geo: decodegeo(geo, 0))\n",
    "    df['end_lon'] = df['location_end'].apply(lambda geo: decodegeo(geo, 1))\n",
    "    \n",
    "    return df"
   ]
  },
  {
   "cell_type": "code",
   "execution_count": 67,
   "metadata": {},
   "outputs": [
    {
     "data": {
      "text/plain": [
       "Index(['year', 'month', 'day', 'time_cat', 'time_num', 'time_cos', 'time_sin',\n",
       "       'day_cat', 'day_num', 'day_cos', 'day_sin', 'weekend', 'x_start',\n",
       "       'y_start', 'z_start', 'location_start', 'location_end', 'start_lat',\n",
       "       'start_lon', 'end_lat', 'end_lon'],\n",
       "      dtype='object')"
      ]
     },
     "execution_count": 67,
     "metadata": {},
     "output_type": "execute_result"
    }
   ],
   "source": [
    "featuredDataset = further_data_prep(featuredDataset)\n",
    "featuredDataset.head(5)\n",
    "featuredDataset.columns"
   ]
  },
  {
   "cell_type": "markdown",
   "metadata": {},
   "source": [
    "### Train-test split\n",
    "For Cross Validation, we split the data into 80% train set and 20% test set."
   ]
  },
  {
   "cell_type": "code",
   "execution_count": 51,
   "metadata": {
    "collapsed": true
   },
   "outputs": [],
   "source": [
    "columns_all_features = featuredDataset.columns\n",
    "columns_X = ['day_num', 'x_start', 'y_start', 'z_start']\n",
    "columns_y = ['end_lat', 'end_lon']\n",
    "X = featuredDataset[columns_X]\n",
    "y = featuredDataset[columns_y]"
   ]
  },
  {
   "cell_type": "code",
   "execution_count": 52,
   "metadata": {
    "collapsed": true
   },
   "outputs": [],
   "source": [
    "from sklearn.model_selection import train_test_split\n",
    "X_train, X_test, y_train, y_test = train_test_split(X, y, test_size=0.2, random_state=42)"
   ]
  },
  {
   "cell_type": "code",
   "execution_count": 53,
   "metadata": {},
   "outputs": [
    {
     "name": "stdout",
     "output_type": "stream",
     "text": [
      "X: (1537, 4)\n",
      "y: (1537, 2)\n",
      "X_train: (1229, 4)\n",
      "y_train: (1229, 2)\n",
      "X_test: (308, 4)\n",
      "y_test: (308, 2)\n"
     ]
    }
   ],
   "source": [
    "print ('X: ({}, {})'.format(*X.shape))\n",
    "print ('y: ({}, {})'.format(*y.shape))\n",
    "print ('X_train: ({}, {})'.format(*X_train.shape))\n",
    "print ('y_train: ({}, {})'.format(*y_train.shape))\n",
    "print ('X_test: ({}, {})'.format(*X_test.shape))\n",
    "print ('y_test: ({}, {})'.format(*y_test.shape))"
   ]
  },
  {
   "cell_type": "markdown",
   "metadata": {},
   "source": [
    "### Machine Learning"
   ]
  },
  {
   "cell_type": "code",
   "execution_count": 54,
   "metadata": {
    "collapsed": true
   },
   "outputs": [],
   "source": [
    "from sklearn.ensemble import RandomForestRegressor\n",
    "from sklearn.metrics import mean_squared_error"
   ]
  },
  {
   "cell_type": "markdown",
   "metadata": {},
   "source": [
    "#### Grid Search Cross Validation\n",
    "Grid Search CV implements an exhaustive search over specified parameter values for an estimator.\n",
    "Important members are fit, predict.\n",
    "\n",
    "It iterates through a dictionary of hyper parameters and choose the combination that better fits the model."
   ]
  },
  {
   "cell_type": "code",
   "execution_count": 55,
   "metadata": {},
   "outputs": [
    {
     "name": "stdout",
     "output_type": "stream",
     "text": [
      "Fitting 5 folds for each of 125 candidates, totalling 625 fits\n"
     ]
    },
    {
     "name": "stderr",
     "output_type": "stream",
     "text": [
      "[Parallel(n_jobs=-1)]: Done 232 tasks      | elapsed:    2.1s\n"
     ]
    },
    {
     "name": "stdout",
     "output_type": "stream",
     "text": [
      "RandomForestRegressor(bootstrap=True, criterion='mse', max_depth=1,\n",
      "           max_features='auto', max_leaf_nodes=None,\n",
      "           min_impurity_split=1e-07, min_samples_leaf=1,\n",
      "           min_samples_split=5, min_weight_fraction_leaf=0.0,\n",
      "           n_estimators=10, n_jobs=1, oob_score=False, random_state=None,\n",
      "           verbose=0, warm_start=False)\n"
     ]
    },
    {
     "name": "stderr",
     "output_type": "stream",
     "text": [
      "[Parallel(n_jobs=-1)]: Done 625 out of 625 | elapsed:    5.0s finished\n"
     ]
    }
   ],
   "source": [
    "from sklearn.model_selection import GridSearchCV\n",
    "# Set the parameters by cross-validation\n",
    "tuned_parameters = {'n_estimators': [2, 5, 10, 20, 40], 'max_depth': [None, 1, 2, 3, 4], 'min_samples_split': [2, 3, 4, 5, 6]}\n",
    "\n",
    "\n",
    "# clf = ensemble.RandomForestRegressor(n_estimators=500, n_jobs=1, verbose=1)\n",
    "gridCV = GridSearchCV(RandomForestRegressor(), tuned_parameters, cv=5, n_jobs=-1, verbose=1)\n",
    "gridCV.fit(X_train, y_train)\n",
    "print (gridCV.best_estimator_)"
   ]
  },
  {
   "cell_type": "markdown",
   "metadata": {},
   "source": [
    "#### Model accuracy: R-Squared and Root-mean-squared deviation\n",
    "R-squared is a statistical measure of how close the data are to the fitted regression line. It ranges from 0 to 1, being 1 the best coefficient.\n",
    "RMSE is the square root of the mean square error. In other worids the distance, on average, of a data point from the fitted line, measured along a vertical line."
   ]
  },
  {
   "cell_type": "code",
   "execution_count": 56,
   "metadata": {},
   "outputs": [
    {
     "name": "stdout",
     "output_type": "stream",
     "text": [
      " R^2 (train) = 0.999428, R^2 (valid) = 0.999995, RMSE (train) = 0.204619, RMSE (valid) = 0.023013\n"
     ]
    }
   ],
   "source": [
    "reg = gridCV.best_estimator_\n",
    "training_accuracy = reg.score(X_train, y_train)\n",
    "valid_accuracy = reg.score(X_test, y_test)\n",
    "rmsetrain = np.sqrt(mean_squared_error(reg.predict(X_train),y_train))\n",
    "rmsevalid = np.sqrt(mean_squared_error(reg.predict(X_test),y_test))\n",
    "print (\" R^2 (train) = %0.6f, R^2 (valid) = %0.6f, RMSE (train) = %0.6f, RMSE (valid) = %0.6f\" % (training_accuracy, valid_accuracy, rmsetrain, rmsevalid))"
   ]
  },
  {
   "cell_type": "markdown",
   "metadata": {},
   "source": [
    "#### Forest feature importances\n",
    "Feature importance shows a coefficient of how much a feature is involved in the decision process of the model. It help us to detect bias in the model, and to make a readjust and better feature selection "
   ]
  },
  {
   "cell_type": "code",
   "execution_count": 57,
   "metadata": {},
   "outputs": [
    {
     "name": "stdout",
     "output_type": "stream",
     "text": [
      "Feature ranking:\n",
      "1. feature 3 (0.600000)\n",
      "2. feature 2 (0.300000)\n",
      "3. feature 1 (0.100000)\n",
      "4. feature 0 (0.000000)\n"
     ]
    },
    {
     "data": {
      "image/png": "[encoded data removed]",
      "text/plain": [
       "<matplotlib.figure.Figure at 0x7f19cdad4240>"
      ]
     },
     "metadata": {},
     "output_type": "display_data"
    }
   ],
   "source": [
    "importances = reg.feature_importances_\n",
    "std = np.std([tree.feature_importances_ for tree in reg.estimators_],\n",
    "             axis=0)\n",
    "indices = np.argsort(importances)[::-1]\n",
    "\n",
    "# Print the feature ranking\n",
    "print(\"Feature ranking:\")\n",
    "\n",
    "for f in range(X.shape[1]):\n",
    "    print(\"%d. feature %d (%f)\" % (f + 1, indices[f], importances[indices[f]]))\n",
    "\n",
    "# Plot the feature importances of the forest\n",
    "feature_names = X_train.columns\n",
    "plt.figure()\n",
    "plt.title(\"Feature importances\")\n",
    "plt.bar(range(X_train.shape[1]), importances[indices],\n",
    "       color=\"r\", yerr=std[indices], align=\"center\")\n",
    "plt.xticks(range(X_train.shape[1]), feature_names)\n",
    "plt.xlim([-1, X_train.shape[1]])\n",
    "plt.show()"
   ]
  },
  {
   "cell_type": "code",
   "execution_count": 58,
   "metadata": {},
   "outputs": [
    {
     "data": {
      "text/html": [
       "<div>\n",
       "<style>\n",
       "    .dataframe thead tr:only-child th {\n",
       "        text-align: right;\n",
       "    }\n",
       "\n",
       "    .dataframe thead th {\n",
       "        text-align: left;\n",
       "    }\n",
       "\n",
       "    .dataframe tbody tr th {\n",
       "        vertical-align: top;\n",
       "    }\n",
       "</style>\n",
       "<table border=\"1\" class=\"dataframe\">\n",
       "  <thead>\n",
       "    <tr style=\"text-align: right;\">\n",
       "      <th></th>\n",
       "      <th>day_num</th>\n",
       "      <th>x_start</th>\n",
       "      <th>y_start</th>\n",
       "      <th>z_start</th>\n",
       "      <th>end_lat</th>\n",
       "      <th>end_lon</th>\n",
       "    </tr>\n",
       "  </thead>\n",
       "  <tbody>\n",
       "    <tr>\n",
       "      <th>1226</th>\n",
       "      <td>0.390278</td>\n",
       "      <td>0.612977</td>\n",
       "      <td>-0.738237</td>\n",
       "      <td>-0.281542</td>\n",
       "      <td>47.423751</td>\n",
       "      <td>8.555195</td>\n",
       "    </tr>\n",
       "    <tr>\n",
       "      <th>783</th>\n",
       "      <td>0.386905</td>\n",
       "      <td>0.612977</td>\n",
       "      <td>-0.738237</td>\n",
       "      <td>-0.281542</td>\n",
       "      <td>47.423751</td>\n",
       "      <td>8.555195</td>\n",
       "    </tr>\n",
       "    <tr>\n",
       "      <th>1294</th>\n",
       "      <td>0.391865</td>\n",
       "      <td>0.612977</td>\n",
       "      <td>-0.738237</td>\n",
       "      <td>-0.281542</td>\n",
       "      <td>47.423751</td>\n",
       "      <td>8.555195</td>\n",
       "    </tr>\n",
       "    <tr>\n",
       "      <th>696</th>\n",
       "      <td>0.385317</td>\n",
       "      <td>0.612977</td>\n",
       "      <td>-0.738237</td>\n",
       "      <td>-0.281542</td>\n",
       "      <td>47.423751</td>\n",
       "      <td>8.555195</td>\n",
       "    </tr>\n",
       "    <tr>\n",
       "      <th>158</th>\n",
       "      <td>0.369444</td>\n",
       "      <td>0.612977</td>\n",
       "      <td>-0.738237</td>\n",
       "      <td>-0.281542</td>\n",
       "      <td>47.423751</td>\n",
       "      <td>8.555195</td>\n",
       "    </tr>\n",
       "    <tr>\n",
       "      <th>1272</th>\n",
       "      <td>0.391468</td>\n",
       "      <td>0.612977</td>\n",
       "      <td>-0.738237</td>\n",
       "      <td>-0.281542</td>\n",
       "      <td>47.423751</td>\n",
       "      <td>8.555195</td>\n",
       "    </tr>\n",
       "    <tr>\n",
       "      <th>256</th>\n",
       "      <td>0.372024</td>\n",
       "      <td>0.612977</td>\n",
       "      <td>-0.738237</td>\n",
       "      <td>-0.281542</td>\n",
       "      <td>47.423751</td>\n",
       "      <td>8.555195</td>\n",
       "    </tr>\n",
       "    <tr>\n",
       "      <th>1300</th>\n",
       "      <td>0.392063</td>\n",
       "      <td>0.612977</td>\n",
       "      <td>-0.738237</td>\n",
       "      <td>-0.281542</td>\n",
       "      <td>47.423751</td>\n",
       "      <td>8.555195</td>\n",
       "    </tr>\n",
       "    <tr>\n",
       "      <th>95</th>\n",
       "      <td>0.370437</td>\n",
       "      <td>0.612977</td>\n",
       "      <td>-0.738237</td>\n",
       "      <td>-0.281542</td>\n",
       "      <td>47.423751</td>\n",
       "      <td>8.555195</td>\n",
       "    </tr>\n",
       "    <tr>\n",
       "      <th>182</th>\n",
       "      <td>0.370238</td>\n",
       "      <td>0.612977</td>\n",
       "      <td>-0.738237</td>\n",
       "      <td>-0.281542</td>\n",
       "      <td>47.423751</td>\n",
       "      <td>8.555195</td>\n",
       "    </tr>\n",
       "  </tbody>\n",
       "</table>\n",
       "</div>"
      ],
      "text/plain": [
       "       day_num   x_start   y_start   z_start    end_lat   end_lon\n",
       "1226  0.390278  0.612977 -0.738237 -0.281542  47.423751  8.555195\n",
       "783   0.386905  0.612977 -0.738237 -0.281542  47.423751  8.555195\n",
       "1294  0.391865  0.612977 -0.738237 -0.281542  47.423751  8.555195\n",
       "696   0.385317  0.612977 -0.738237 -0.281542  47.423751  8.555195\n",
       "158   0.369444  0.612977 -0.738237 -0.281542  47.423751  8.555195\n",
       "1272  0.391468  0.612977 -0.738237 -0.281542  47.423751  8.555195\n",
       "256   0.372024  0.612977 -0.738237 -0.281542  47.423751  8.555195\n",
       "1300  0.392063  0.612977 -0.738237 -0.281542  47.423751  8.555195\n",
       "95    0.370437  0.612977 -0.738237 -0.281542  47.423751  8.555195\n",
       "182   0.370238  0.612977 -0.738237 -0.281542  47.423751  8.555195"
      ]
     },
     "execution_count": 58,
     "metadata": {},
     "output_type": "execute_result"
    }
   ],
   "source": [
    "sampleds = pd.DataFrame(featuredDataset, columns=(columns_X + columns_y))\n",
    "sampleds = sampleds.sample(10)\n",
    "sampleds"
   ]
  },
  {
   "cell_type": "code",
   "execution_count": 59,
   "metadata": {},
   "outputs": [
    {
     "data": {
      "text/plain": [
       "array([[ 47.41518617,   8.53773234],\n",
       "       [ 47.41518617,   8.53773234],\n",
       "       [ 47.41518617,   8.53773234],\n",
       "       [ 47.41518617,   8.53773234],\n",
       "       [ 47.41518617,   8.53773234],\n",
       "       [ 47.41518617,   8.53773234],\n",
       "       [ 47.41518617,   8.53773234],\n",
       "       [ 47.41518617,   8.53773234],\n",
       "       [ 47.41518617,   8.53773234],\n",
       "       [ 47.41518617,   8.53773234]])"
      ]
     },
     "execution_count": 59,
     "metadata": {},
     "output_type": "execute_result"
    }
   ],
   "source": [
    "y_pred = reg.predict(sampleds.iloc[:,:-2])\n",
    "y_pred"
   ]
  },
  {
   "cell_type": "markdown",
   "metadata": {},
   "source": [
    "### Save the model\n",
    "We dump the trained model into a file, so that we can later load and use it without having to fit it again"
   ]
  },
  {
   "cell_type": "code",
   "execution_count": 60,
   "metadata": {},
   "outputs": [
    {
     "data": {
      "text/plain": [
       "['trained_model.pkl']"
      ]
     },
     "execution_count": 60,
     "metadata": {},
     "output_type": "execute_result"
    }
   ],
   "source": [
    "from sklearn.externals import joblib\n",
    "joblib.dump(reg, 'random_forest_model.pkl') "
   ]
  }
 ],
 "metadata": {
  "kernelspec": {
   "display_name": "Python 3",
   "language": "python",
   "name": "python3"
  },
  "language_info": {
   "codemirror_mode": {
    "name": "ipython",
    "version": 3
   },
   "file_extension": ".py",
   "mimetype": "text/x-python",
   "name": "python",
   "nbconvert_exporter": "python",
   "pygments_lexer": "ipython3",
   "version": "3.6.1"
  }
 },
 "nbformat": 4,
 "nbformat_minor": 2
}
