{
 "cells": [
  {
   "cell_type": "code",
   "execution_count": 1,
   "metadata": {
    "_cell_guid": "b1076dfc-b9ad-4769-8c92-a6c4dae69d19",
    "_uuid": "8f2839f25d086af736a60e9eeb907d3b93b6e0e5"
   },
   "outputs": [
    {
     "name": "stdout",
     "output_type": "stream",
     "text": [
      "/kaggle/input/titanic/train.csv\n",
      "/kaggle/input/titanic/gender_submission.csv\n",
      "/kaggle/input/titanic/test.csv\n"
     ]
    }
   ],
   "source": [
    "# This Python 3 environment comes with many helpful analytics libraries installed\n",
    "# It is defined by the kaggle/python docker image: https://github.com/kaggle/docker-python\n",
    "# For example, here's several helpful packages to load in \n",
    "\n",
    "import numpy as np # linear algebra\n",
    "import pandas as pd # data processing, CSV file I/O (e.g. pd.read_csv)\n",
    "\n",
    "# import other needed packages and functions\n",
    "import matplotlib.pyplot as plt\n",
    "%matplotlib inline\n",
    "from sklearn.preprocessing import MinMaxScaler\n",
    "from sklearn.feature_selection import SelectKBest\n",
    "from sklearn.model_selection import train_test_split\n",
    "from sklearn.ensemble import RandomForestClassifier, ExtraTreesClassifier, AdaBoostClassifier, GradientBoostingClassifier\n",
    "from sklearn.tree import DecisionTreeClassifier\n",
    "from sklearn.linear_model import LogisticRegression\n",
    "from sklearn.neighbors import KNeighborsClassifier\n",
    "from sklearn.svm import SVC\n",
    "from sklearn.naive_bayes import GaussianNB\n",
    "from sklearn.model_selection import GridSearchCV\n",
    "from sklearn.ensemble import VotingClassifier\n",
    "import lightgbm\n",
    "from sklearn.model_selection import cross_val_score\n",
    "import itertools\n",
    "\n",
    "\n",
    "# Input data files are available in the \"../input/\" directory.\n",
    "# For example, running this (by clicking run or pressing Shift+Enter) will list all files under the input directory\n",
    "\n",
    "import os\n",
    "for dirname, _, filenames in os.walk('/kaggle/input'):\n",
    "    for filename in filenames:\n",
    "        print(os.path.join(dirname, filename))\n",
    "\n",
    "# Any results you write to the current directory are saved as output."
   ]
  },
  {
   "cell_type": "code",
   "execution_count": 2,
   "metadata": {
    "_cell_guid": "79c7e3d0-c299-4dcb-8224-4455121ee9b0",
    "_uuid": "d629ff2d2480ee46fbb7e2d37f6b5fab8052498a"
   },
   "outputs": [],
   "source": [
    "# read in csv files and make dfs\n",
    "train_df = pd.read_csv(\"/kaggle/input/titanic/train.csv\")\n",
    "test_df = pd.read_csv(\"/kaggle/input/titanic/test.csv\")\n",
    "\n",
    "# make copy of test df for submission\n",
    "submission = test_df.copy()\n",
    "\n",
    "# combine train and test dfs into 1 df of all data\n",
    "all_df = pd.concat([train_df, test_df], sort=False)"
   ]
  },
  {
   "cell_type": "code",
   "execution_count": 3,
   "metadata": {},
   "outputs": [
    {
     "name": "stdout",
     "output_type": "stream",
     "text": [
      "Header:\n",
      "   PassengerId  Survived  Pclass  \\\n",
      "0            1       0.0       3   \n",
      "1            2       1.0       1   \n",
      "2            3       1.0       3   \n",
      "3            4       1.0       1   \n",
      "4            5       0.0       3   \n",
      "\n",
      "                                                Name     Sex   Age  SibSp  \\\n",
      "0                            Braund, Mr. Owen Harris    male  22.0      1   \n",
      "1  Cumings, Mrs. John Bradley (Florence Briggs Th...  female  38.0      1   \n",
      "2                             Heikkinen, Miss. Laina  female  26.0      0   \n",
      "3       Futrelle, Mrs. Jacques Heath (Lily May Peel)  female  35.0      1   \n",
      "4                           Allen, Mr. William Henry    male  35.0      0   \n",
      "\n",
      "   Parch            Ticket     Fare Cabin Embarked  \n",
      "0      0         A/5 21171   7.2500   NaN        S  \n",
      "1      0          PC 17599  71.2833   C85        C  \n",
      "2      0  STON/O2. 3101282   7.9250   NaN        S  \n",
      "3      0            113803  53.1000  C123        S  \n",
      "4      0            373450   8.0500   NaN        S  \n",
      "\n",
      "Shape: (1309, 12)\n",
      "\n",
      "Statistics:\n",
      "       PassengerId    Survived       Pclass          Age        SibSp  \\\n",
      "count  1309.000000  891.000000  1309.000000  1046.000000  1309.000000   \n",
      "mean    655.000000    0.383838     2.294882    29.881138     0.498854   \n",
      "std     378.020061    0.486592     0.837836    14.413493     1.041658   \n",
      "min       1.000000    0.000000     1.000000     0.170000     0.000000   \n",
      "25%     328.000000    0.000000     2.000000    21.000000     0.000000   \n",
      "50%     655.000000    0.000000     3.000000    28.000000     0.000000   \n",
      "75%     982.000000    1.000000     3.000000    39.000000     1.000000   \n",
      "max    1309.000000    1.000000     3.000000    80.000000     8.000000   \n",
      "\n",
      "             Parch         Fare  \n",
      "count  1309.000000  1308.000000  \n",
      "mean      0.385027    33.295479  \n",
      "std       0.865560    51.758668  \n",
      "min       0.000000     0.000000  \n",
      "25%       0.000000     7.895800  \n",
      "50%       0.000000    14.454200  \n",
      "75%       0.000000    31.275000  \n",
      "max       9.000000   512.329200  \n",
      "\n",
      "Info:\n",
      "<class 'pandas.core.frame.DataFrame'>\n",
      "Int64Index: 1309 entries, 0 to 417\n",
      "Data columns (total 12 columns):\n",
      "PassengerId    1309 non-null int64\n",
      "Survived       891 non-null float64\n",
      "Pclass         1309 non-null int64\n",
      "Name           1309 non-null object\n",
      "Sex            1309 non-null object\n",
      "Age            1046 non-null float64\n",
      "SibSp          1309 non-null int64\n",
      "Parch          1309 non-null int64\n",
      "Ticket         1309 non-null object\n",
      "Fare           1308 non-null float64\n",
      "Cabin          295 non-null object\n",
      "Embarked       1307 non-null object\n",
      "dtypes: float64(3), int64(4), object(5)\n",
      "memory usage: 132.9+ KB\n",
      "None\n"
     ]
    }
   ],
   "source": [
    "# Define function to inspect data frames. Prints first few lines, determines size/shape of data frame,\n",
    "# shows descriptive statistics, shows data types, shows missing or incomplete data, check for duplicate data.\n",
    "\n",
    "def inspect_df(df):\n",
    "    print('Header:')\n",
    "    print('{}'.format(df.head()))\n",
    "    print()\n",
    "    print('Shape: {}'.format(df.shape))\n",
    "    print()\n",
    "    print('Statistics:')\n",
    "    print('{}'.format(df.describe()))\n",
    "    print()\n",
    "    print('Info:')\n",
    "    print('{}'.format(df.info()))\n",
    "    \n",
    "# use inspect_df on all_df\n",
    "\n",
    "inspect_df(all_df)"
   ]
  },
  {
   "cell_type": "code",
   "execution_count": 4,
   "metadata": {},
   "outputs": [
    {
     "data": {
      "text/plain": [
       "1    0.246753\n",
       "2    0.211612\n",
       "3    0.541635\n",
       "Name: Pclass, dtype: float64"
      ]
     },
     "execution_count": 4,
     "metadata": {},
     "output_type": "execute_result"
    }
   ],
   "source": [
    "# look at proportions of passengers by Pclass\n",
    "\n",
    "all_df.Pclass.value_counts(normalize=True, sort=False)"
   ]
  },
  {
   "cell_type": "code",
   "execution_count": 5,
   "metadata": {},
   "outputs": [
    {
     "data": {
      "text/plain": [
       "male      0.644003\n",
       "female    0.355997\n",
       "Name: Sex, dtype: float64"
      ]
     },
     "execution_count": 5,
     "metadata": {},
     "output_type": "execute_result"
    }
   ],
   "source": [
    "# look at proportions of passengers by Sex\n",
    "\n",
    "all_df.Sex.value_counts(normalize=True)"
   ]
  },
  {
   "cell_type": "code",
   "execution_count": 6,
   "metadata": {},
   "outputs": [
    {
     "data": {
      "text/html": [
       "<div>\n",
       "<style scoped>\n",
       "    .dataframe tbody tr th:only-of-type {\n",
       "        vertical-align: middle;\n",
       "    }\n",
       "\n",
       "    .dataframe tbody tr th {\n",
       "        vertical-align: top;\n",
       "    }\n",
       "\n",
       "    .dataframe thead th {\n",
       "        text-align: right;\n",
       "    }\n",
       "</style>\n",
       "<table border=\"1\" class=\"dataframe\">\n",
       "  <thead>\n",
       "    <tr style=\"text-align: right;\">\n",
       "      <th></th>\n",
       "      <th>PassengerId</th>\n",
       "      <th>Survived</th>\n",
       "      <th>Pclass</th>\n",
       "      <th>Name</th>\n",
       "      <th>Sex</th>\n",
       "      <th>Age</th>\n",
       "      <th>SibSp</th>\n",
       "      <th>Parch</th>\n",
       "      <th>Ticket</th>\n",
       "      <th>Fare</th>\n",
       "      <th>Cabin</th>\n",
       "      <th>Embarked</th>\n",
       "    </tr>\n",
       "  </thead>\n",
       "  <tbody>\n",
       "    <tr>\n",
       "      <th>61</th>\n",
       "      <td>62</td>\n",
       "      <td>1.0</td>\n",
       "      <td>1</td>\n",
       "      <td>Icard, Miss. Amelie</td>\n",
       "      <td>female</td>\n",
       "      <td>38.0</td>\n",
       "      <td>0</td>\n",
       "      <td>0</td>\n",
       "      <td>113572</td>\n",
       "      <td>80.0</td>\n",
       "      <td>B28</td>\n",
       "      <td>NaN</td>\n",
       "    </tr>\n",
       "    <tr>\n",
       "      <th>829</th>\n",
       "      <td>830</td>\n",
       "      <td>1.0</td>\n",
       "      <td>1</td>\n",
       "      <td>Stone, Mrs. George Nelson (Martha Evelyn)</td>\n",
       "      <td>female</td>\n",
       "      <td>62.0</td>\n",
       "      <td>0</td>\n",
       "      <td>0</td>\n",
       "      <td>113572</td>\n",
       "      <td>80.0</td>\n",
       "      <td>B28</td>\n",
       "      <td>NaN</td>\n",
       "    </tr>\n",
       "  </tbody>\n",
       "</table>\n",
       "</div>"
      ],
      "text/plain": [
       "     PassengerId  Survived  Pclass                                       Name  \\\n",
       "61            62       1.0       1                        Icard, Miss. Amelie   \n",
       "829          830       1.0       1  Stone, Mrs. George Nelson (Martha Evelyn)   \n",
       "\n",
       "        Sex   Age  SibSp  Parch  Ticket  Fare Cabin Embarked  \n",
       "61   female  38.0      0      0  113572  80.0   B28      NaN  \n",
       "829  female  62.0      0      0  113572  80.0   B28      NaN  "
      ]
     },
     "execution_count": 6,
     "metadata": {},
     "output_type": "execute_result"
    }
   ],
   "source": [
    "# inspect null values for Embarked\n",
    "\n",
    "all_df[all_df.Embarked.isnull()]"
   ]
  },
  {
   "cell_type": "markdown",
   "metadata": {},
   "source": [
    "Looked up Mrs. Stone and Miss Icard online, they boarded in Southampton."
   ]
  },
  {
   "cell_type": "code",
   "execution_count": 7,
   "metadata": {},
   "outputs": [],
   "source": [
    "# fill missing values for Embarked with information found online\n",
    "\n",
    "all_df.loc[[61, 829], ['Embarked']] = 'S'"
   ]
  },
  {
   "cell_type": "code",
   "execution_count": 8,
   "metadata": {},
   "outputs": [
    {
     "name": "stderr",
     "output_type": "stream",
     "text": [
      "/opt/conda/lib/python3.6/site-packages/numpy/lib/histograms.py:824: RuntimeWarning: invalid value encountered in greater_equal\n",
      "  keep = (tmp_a >= first_edge)\n",
      "/opt/conda/lib/python3.6/site-packages/numpy/lib/histograms.py:825: RuntimeWarning: invalid value encountered in less_equal\n",
      "  keep &= (tmp_a <= last_edge)\n"
     ]
    },
    {
     "data": {
      "image/png": "[encoded data removed]",
      "text/plain": [
       "<Figure size 432x288 with 1 Axes>"
      ]
     },
     "metadata": {
      "needs_background": "light"
     },
     "output_type": "display_data"
    }
   ],
   "source": [
    "# plot histogram of Ages\n",
    "\n",
    "plt.hist(data = all_df, x = 'Age', bins = 40);"
   ]
  },
  {
   "cell_type": "code",
   "execution_count": 9,
   "metadata": {},
   "outputs": [
    {
     "data": {
      "image/png": "[encoded data removed]",
      "text/plain": [
       "<Figure size 432x288 with 1 Axes>"
      ]
     },
     "metadata": {
      "needs_background": "light"
     },
     "output_type": "display_data"
    }
   ],
   "source": [
    "# plot histogram of Fare\n",
    "\n",
    "plt.hist(data = all_df, x = 'Fare', bins = 40);"
   ]
  },
  {
   "cell_type": "code",
   "execution_count": 10,
   "metadata": {},
   "outputs": [
    {
     "data": {
      "image/png": "[encoded data removed]",
      "text/plain": [
       "<Figure size 432x288 with 1 Axes>"
      ]
     },
     "metadata": {
      "needs_background": "light"
     },
     "output_type": "display_data"
    }
   ],
   "source": [
    "# plot histogram of siblings and spouses\n",
    "\n",
    "plt.hist(data = all_df, x = 'SibSp', bins = 8);"
   ]
  },
  {
   "cell_type": "code",
   "execution_count": 11,
   "metadata": {},
   "outputs": [
    {
     "data": {
      "image/png": "[encoded data removed]",
      "text/plain": [
       "<Figure size 432x288 with 1 Axes>"
      ]
     },
     "metadata": {
      "needs_background": "light"
     },
     "output_type": "display_data"
    }
   ],
   "source": [
    "# plot histogram of parents and children\n",
    "\n",
    "plt.hist(data = all_df, x = 'Parch', bins = 9);"
   ]
  },
  {
   "cell_type": "code",
   "execution_count": 12,
   "metadata": {},
   "outputs": [
    {
     "name": "stdout",
     "output_type": "stream",
     "text": [
      "<class 'pandas.core.frame.DataFrame'>\n",
      "Int64Index: 1309 entries, 0 to 417\n",
      "Data columns (total 12 columns):\n",
      "PassengerId    1309 non-null int64\n",
      "Survived       891 non-null float64\n",
      "Pclass         1309 non-null int64\n",
      "Name           1309 non-null object\n",
      "Sex            1309 non-null object\n",
      "Age            1046 non-null float64\n",
      "SibSp          1309 non-null int64\n",
      "Parch          1309 non-null int64\n",
      "Ticket         1309 non-null object\n",
      "Fare           1308 non-null float64\n",
      "Cabin          295 non-null object\n",
      "Embarked       1309 non-null object\n",
      "dtypes: float64(3), int64(4), object(5)\n",
      "memory usage: 172.9+ KB\n"
     ]
    }
   ],
   "source": [
    "# inspect columns and missing values again\n",
    "\n",
    "all_df.info()"
   ]
  },
  {
   "cell_type": "code",
   "execution_count": 13,
   "metadata": {},
   "outputs": [
    {
     "data": {
      "text/html": [
       "<div>\n",
       "<style scoped>\n",
       "    .dataframe tbody tr th:only-of-type {\n",
       "        vertical-align: middle;\n",
       "    }\n",
       "\n",
       "    .dataframe tbody tr th {\n",
       "        vertical-align: top;\n",
       "    }\n",
       "\n",
       "    .dataframe thead th {\n",
       "        text-align: right;\n",
       "    }\n",
       "</style>\n",
       "<table border=\"1\" class=\"dataframe\">\n",
       "  <thead>\n",
       "    <tr style=\"text-align: right;\">\n",
       "      <th></th>\n",
       "      <th>PassengerId</th>\n",
       "      <th>Survived</th>\n",
       "      <th>Pclass</th>\n",
       "      <th>Name</th>\n",
       "      <th>Sex</th>\n",
       "      <th>Age</th>\n",
       "      <th>SibSp</th>\n",
       "      <th>Parch</th>\n",
       "      <th>Ticket</th>\n",
       "      <th>Fare</th>\n",
       "      <th>Cabin</th>\n",
       "      <th>Embarked</th>\n",
       "    </tr>\n",
       "  </thead>\n",
       "  <tbody>\n",
       "    <tr>\n",
       "      <th>152</th>\n",
       "      <td>1044</td>\n",
       "      <td>NaN</td>\n",
       "      <td>3</td>\n",
       "      <td>Storey, Mr. Thomas</td>\n",
       "      <td>male</td>\n",
       "      <td>60.5</td>\n",
       "      <td>0</td>\n",
       "      <td>0</td>\n",
       "      <td>3701</td>\n",
       "      <td>NaN</td>\n",
       "      <td>NaN</td>\n",
       "      <td>S</td>\n",
       "    </tr>\n",
       "  </tbody>\n",
       "</table>\n",
       "</div>"
      ],
      "text/plain": [
       "     PassengerId  Survived  Pclass                Name   Sex   Age  SibSp  \\\n",
       "152         1044       NaN       3  Storey, Mr. Thomas  male  60.5      0   \n",
       "\n",
       "     Parch Ticket  Fare Cabin Embarked  \n",
       "152      0   3701   NaN   NaN        S  "
      ]
     },
     "execution_count": 13,
     "metadata": {},
     "output_type": "execute_result"
    }
   ],
   "source": [
    "# find passenger with missing fare data\n",
    "\n",
    "all_df[all_df.Fare.isnull()]"
   ]
  },
  {
   "cell_type": "code",
   "execution_count": 14,
   "metadata": {},
   "outputs": [
    {
     "data": {
      "text/plain": [
       "Pclass\n",
       "1    87.508992\n",
       "2    21.179196\n",
       "3    13.302889\n",
       "Name: Fare, dtype: float64"
      ]
     },
     "execution_count": 14,
     "metadata": {},
     "output_type": "execute_result"
    }
   ],
   "source": [
    "# get average fare of each Pclass\n",
    "\n",
    "all_df.Fare.groupby(all_df.Pclass).mean()"
   ]
  },
  {
   "cell_type": "code",
   "execution_count": 15,
   "metadata": {},
   "outputs": [],
   "source": [
    "#fill nan fare value with rounded mean for class 3\n",
    "\n",
    "all_df.loc[152, ['Fare']] = 13"
   ]
  },
  {
   "cell_type": "code",
   "execution_count": 16,
   "metadata": {},
   "outputs": [],
   "source": [
    "# fill missing values for ages with the mean age value for each passengers Pclass and Sex\n",
    "\n",
    "all_df.Age = all_df.Age.groupby([all_df.Pclass, all_df.Sex]).transform(lambda x: x.fillna(x.mean()))"
   ]
  },
  {
   "cell_type": "code",
   "execution_count": 17,
   "metadata": {},
   "outputs": [
    {
     "data": {
      "text/plain": [
       "Title\n",
       "Capt        0.000000\n",
       "Col         0.500000\n",
       "Countess    1.000000\n",
       "Don         0.000000\n",
       "Dona             NaN\n",
       "Dr          0.428571\n",
       "Jonkheer    0.000000\n",
       "Lady        1.000000\n",
       "Major       0.500000\n",
       "Master      0.575000\n",
       "Miss        0.697802\n",
       "Mlle        1.000000\n",
       "Mme         1.000000\n",
       "Mr          0.156673\n",
       "Mrs         0.792000\n",
       "Ms          1.000000\n",
       "Rev         0.000000\n",
       "Sir         1.000000\n",
       "Name: Survived, dtype: float64"
      ]
     },
     "execution_count": 17,
     "metadata": {},
     "output_type": "execute_result"
    }
   ],
   "source": [
    "# Extract titles from names and make new Title column, then get survival rate of each title\n",
    "\n",
    "all_df['Title'] = all_df.Name.str.extract(' ([A-Za-z]+)\\.', expand=False)\n",
    "all_df.Survived.groupby(all_df.Title).mean()"
   ]
  },
  {
   "cell_type": "code",
   "execution_count": 18,
   "metadata": {},
   "outputs": [
    {
     "data": {
      "text/plain": [
       "Mr          757\n",
       "Miss        260\n",
       "Mrs         197\n",
       "Master       61\n",
       "Rev           8\n",
       "Dr            8\n",
       "Col           4\n",
       "Major         2\n",
       "Mlle          2\n",
       "Ms            2\n",
       "Sir           1\n",
       "Don           1\n",
       "Lady          1\n",
       "Mme           1\n",
       "Dona          1\n",
       "Jonkheer      1\n",
       "Capt          1\n",
       "Countess      1\n",
       "Name: Title, dtype: int64"
      ]
     },
     "execution_count": 18,
     "metadata": {},
     "output_type": "execute_result"
    }
   ],
   "source": [
    "# get value counts for title occurences\n",
    "\n",
    "all_df.Title.value_counts()"
   ]
  },
  {
   "cell_type": "code",
   "execution_count": 19,
   "metadata": {},
   "outputs": [
    {
     "data": {
      "text/plain": [
       "Mr        783\n",
       "Miss      264\n",
       "Mrs       201\n",
       "Master     61\n",
       "Name: Title, dtype: int64"
      ]
     },
     "execution_count": 19,
     "metadata": {},
     "output_type": "execute_result"
    }
   ],
   "source": [
    "# Replace uncommon titles with more common values and view new occurences\n",
    "\n",
    "all_df.Title = all_df.Title.replace(['Capt', 'Col', 'Dr', 'Major', 'Rev', 'Don', 'Sir', 'Jonkheer'], 'Mr')\n",
    "all_df.Title = all_df.Title.replace(['Ms', 'Mlle'], 'Miss')\n",
    "all_df.Title = all_df.Title.replace(['Mme', 'Lady', 'Countess', 'Dona'], 'Mrs')\n",
    "all_df.Title.value_counts()"
   ]
  },
  {
   "cell_type": "code",
   "execution_count": 20,
   "metadata": {},
   "outputs": [
    {
     "name": "stdout",
     "output_type": "stream",
     "text": [
      "<class 'pandas.core.frame.DataFrame'>\n",
      "Int64Index: 1309 entries, 0 to 417\n",
      "Data columns (total 17 columns):\n",
      "PassengerId         1309 non-null int64\n",
      "Survived            891 non-null float64\n",
      "Pclass              1309 non-null int64\n",
      "Age                 1309 non-null category\n",
      "Fare                1309 non-null category\n",
      "Fam                 1309 non-null int64\n",
      "Ticket_Frequency    1309 non-null int64\n",
      "Solo                1309 non-null float64\n",
      "Female              1309 non-null uint8\n",
      "Male                1309 non-null uint8\n",
      "Embarked_C          1309 non-null uint8\n",
      "Embarked_Q          1309 non-null uint8\n",
      "Embarked_S          1309 non-null uint8\n",
      "Master              1309 non-null uint8\n",
      "Miss                1309 non-null uint8\n",
      "Mr                  1309 non-null uint8\n",
      "Mrs                 1309 non-null uint8\n",
      "dtypes: category(2), float64(2), int64(4), uint8(9)\n",
      "memory usage: 86.4 KB\n"
     ]
    }
   ],
   "source": [
    "# combine sibsp and parch to one family column\n",
    "all_df['Fam'] = all_df.SibSp + all_df.Parch\n",
    "\n",
    "# make ticket frequency column for number of occurences of ticket number\n",
    "all_df['Ticket_Frequency'] = all_df.groupby('Ticket')['Ticket'].transform('count')\n",
    "    \n",
    "# make column for solo vs travel with family\n",
    "all_df.loc[all_df['Fam'] == 0, 'Solo'] = 1\n",
    "all_df.loc[all_df['Ticket_Frequency'] == 1, 'Solo'] = 1\n",
    "all_df.Solo = all_df.Solo.fillna(0)\n",
    "       \n",
    "# bin fare column to 9 quantiles and encode as ordinal\n",
    "all_df['Fare'] = pd.qcut(all_df.Fare, q=9, labels=np.arange(1,10))\n",
    "    \n",
    "# bin age column to 10 quantiles and encode as ordinal\n",
    "all_df['Age'] = pd.qcut(all_df.Age, q=10, labels=np.arange(1,11))\n",
    "    \n",
    "# one-hot encode sex column and capitalize sex columns for consistency\n",
    "all_df = pd.concat([all_df, pd.get_dummies(all_df.Sex)], axis=1)\n",
    "all_df.rename(columns={'male':'Male', 'female':'Female'}, inplace=True)\n",
    "    \n",
    "# one-hot encode embarked column\n",
    "all_df = pd.concat([all_df, pd.get_dummies(all_df.Embarked, prefix='Embarked')], axis=1)\n",
    "    \n",
    "# one-hot encode title column\n",
    "all_df = pd.concat([all_df, pd.get_dummies(all_df.Title)], axis=1)\n",
    "    \n",
    "# drop unwanted columns (name, sex, cabin, embarked and title have been replaced with one hot encoding, ticket replaced with ticket frequency,\n",
    "# cabin has too many missing values, sibsp and parch replaced with fam and solo columns)\n",
    "all_df = all_df.drop(columns=['Name', 'Sex', 'Ticket', 'Cabin', 'SibSp', 'Parch', 'Embarked', 'Title'])\n",
    "    \n",
    "# inspect columns and number of values for resulting df\n",
    "all_df.info()"
   ]
  },
  {
   "cell_type": "code",
   "execution_count": 21,
   "metadata": {},
   "outputs": [
    {
     "data": {
      "text/plain": [
       "Fam\n",
       "0     0.303538\n",
       "1     0.552795\n",
       "2     0.578431\n",
       "3     0.724138\n",
       "4     0.200000\n",
       "5     0.136364\n",
       "6     0.333333\n",
       "7     0.000000\n",
       "10    0.000000\n",
       "Name: Survived, dtype: float64"
      ]
     },
     "execution_count": 21,
     "metadata": {},
     "output_type": "execute_result"
    }
   ],
   "source": [
    "# inspect survival rates for number of family members onboard\n",
    "\n",
    "all_df.Survived.groupby(all_df.Fam).mean()"
   ]
  },
  {
   "cell_type": "code",
   "execution_count": 22,
   "metadata": {},
   "outputs": [
    {
     "data": {
      "text/plain": [
       "1    790\n",
       "2    437\n",
       "3     63\n",
       "4     19\n",
       "Name: Fam, dtype: int64"
      ]
     },
     "execution_count": 22,
     "metadata": {},
     "output_type": "execute_result"
    }
   ],
   "source": [
    "# bin fam column values and get value counts\n",
    "\n",
    "all_df.Fam = pd.cut(all_df.Fam, bins=[0, 1, 4, 7, 11], include_lowest=True, right=False, labels=[1, 2, 3, 4])\n",
    "all_df.Fam.value_counts()"
   ]
  },
  {
   "cell_type": "code",
   "execution_count": 23,
   "metadata": {},
   "outputs": [
    {
     "data": {
      "text/plain": [
       "Ticket_Frequency\n",
       "1     0.270270\n",
       "2     0.513812\n",
       "3     0.653465\n",
       "4     0.727273\n",
       "5     0.333333\n",
       "6     0.210526\n",
       "7     0.208333\n",
       "8     0.384615\n",
       "11    0.000000\n",
       "Name: Survived, dtype: float64"
      ]
     },
     "execution_count": 23,
     "metadata": {},
     "output_type": "execute_result"
    }
   ],
   "source": [
    "# inspect survival rate for number of people traveling in group\n",
    "\n",
    "all_df.Survived.groupby(all_df.Ticket_Frequency).mean()"
   ]
  },
  {
   "cell_type": "code",
   "execution_count": 24,
   "metadata": {},
   "outputs": [
    {
     "data": {
      "text/plain": [
       "1    713\n",
       "2    475\n",
       "3    110\n",
       "4     11\n",
       "Name: Ticket_Frequency, dtype: int64"
      ]
     },
     "execution_count": 24,
     "metadata": {},
     "output_type": "execute_result"
    }
   ],
   "source": [
    "# bin ticket frequency column values and get value counts\n",
    "\n",
    "all_df.Ticket_Frequency = pd.cut(all_df.Ticket_Frequency, bins=[0, 2, 5, 9, 12], right=False, labels=[1, 2, 3, 4])\n",
    "all_df.Ticket_Frequency.value_counts()"
   ]
  },
  {
   "cell_type": "code",
   "execution_count": 25,
   "metadata": {},
   "outputs": [
    {
     "data": {
      "text/plain": [
       "['PassengerId',\n",
       " 'Survived',\n",
       " 'Pclass',\n",
       " 'Age',\n",
       " 'Fare',\n",
       " 'Fam',\n",
       " 'Ticket_Frequency',\n",
       " 'Solo',\n",
       " 'Female',\n",
       " 'Male',\n",
       " 'Embarked_C',\n",
       " 'Embarked_Q',\n",
       " 'Embarked_S',\n",
       " 'Master',\n",
       " 'Miss',\n",
       " 'Mr',\n",
       " 'Mrs']"
      ]
     },
     "execution_count": 25,
     "metadata": {},
     "output_type": "execute_result"
    }
   ],
   "source": [
    "# make list of all columns and view it\n",
    "\n",
    "cols = list(all_df)\n",
    "cols"
   ]
  },
  {
   "cell_type": "code",
   "execution_count": 26,
   "metadata": {},
   "outputs": [],
   "source": [
    "# use min max scaler to scale all feature columns to range 0-1\n",
    "\n",
    "scaler = MinMaxScaler()\n",
    "all_df[cols] = scaler.fit_transform(all_df[cols])"
   ]
  },
  {
   "cell_type": "code",
   "execution_count": 27,
   "metadata": {},
   "outputs": [],
   "source": [
    "# make array of survived labels (training), drop survived column from all_df, split all_df into features (training) and test_df, and make array of feature column names\n",
    "\n",
    "labels = all_df.loc[:890, 'Survived']\n",
    "all_df = all_df.drop(columns = 'Survived')\n",
    "features = all_df.iloc[:891]\n",
    "test_df = all_df.iloc[891:]\n",
    "feat_names = features.columns.values"
   ]
  },
  {
   "cell_type": "code",
   "execution_count": 28,
   "metadata": {},
   "outputs": [],
   "source": [
    "# use SelectKBest to narrow down to top features and use result to transform train and test features dfs\n",
    "\n",
    "k = SelectKBest(k=11)\n",
    "k.fit(features, labels)\n",
    "k_scores = (k.scores_)\n",
    "features = k.transform(features)\n",
    "test_df = k.transform(test_df)"
   ]
  },
  {
   "cell_type": "code",
   "execution_count": 29,
   "metadata": {},
   "outputs": [
    {
     "data": {
      "text/html": [
       "<div>\n",
       "<style scoped>\n",
       "    .dataframe tbody tr th:only-of-type {\n",
       "        vertical-align: middle;\n",
       "    }\n",
       "\n",
       "    .dataframe tbody tr th {\n",
       "        vertical-align: top;\n",
       "    }\n",
       "\n",
       "    .dataframe thead th {\n",
       "        text-align: right;\n",
       "    }\n",
       "</style>\n",
       "<table border=\"1\" class=\"dataframe\">\n",
       "  <thead>\n",
       "    <tr style=\"text-align: right;\">\n",
       "      <th></th>\n",
       "      <th>Feature</th>\n",
       "      <th>Score</th>\n",
       "    </tr>\n",
       "  </thead>\n",
       "  <tbody>\n",
       "    <tr>\n",
       "      <th>0</th>\n",
       "      <td>PassengerId</td>\n",
       "      <td>0.022285</td>\n",
       "    </tr>\n",
       "    <tr>\n",
       "      <th>1</th>\n",
       "      <td>Pclass</td>\n",
       "      <td>115.031272</td>\n",
       "    </tr>\n",
       "    <tr>\n",
       "      <th>2</th>\n",
       "      <td>Age</td>\n",
       "      <td>0.118749</td>\n",
       "    </tr>\n",
       "    <tr>\n",
       "      <th>3</th>\n",
       "      <td>Fare</td>\n",
       "      <td>108.327062</td>\n",
       "    </tr>\n",
       "    <tr>\n",
       "      <th>4</th>\n",
       "      <td>Fam</td>\n",
       "      <td>6.313788</td>\n",
       "    </tr>\n",
       "    <tr>\n",
       "      <th>5</th>\n",
       "      <td>Ticket_Frequency</td>\n",
       "      <td>17.149390</td>\n",
       "    </tr>\n",
       "    <tr>\n",
       "      <th>6</th>\n",
       "      <td>Solo</td>\n",
       "      <td>47.368609</td>\n",
       "    </tr>\n",
       "    <tr>\n",
       "      <th>7</th>\n",
       "      <td>Female</td>\n",
       "      <td>372.405724</td>\n",
       "    </tr>\n",
       "    <tr>\n",
       "      <th>8</th>\n",
       "      <td>Male</td>\n",
       "      <td>372.405724</td>\n",
       "    </tr>\n",
       "    <tr>\n",
       "      <th>9</th>\n",
       "      <td>Embarked_C</td>\n",
       "      <td>25.895987</td>\n",
       "    </tr>\n",
       "    <tr>\n",
       "      <th>10</th>\n",
       "      <td>Embarked_Q</td>\n",
       "      <td>0.011846</td>\n",
       "    </tr>\n",
       "    <tr>\n",
       "      <th>11</th>\n",
       "      <td>Embarked_S</td>\n",
       "      <td>20.374460</td>\n",
       "    </tr>\n",
       "    <tr>\n",
       "      <th>12</th>\n",
       "      <td>Master</td>\n",
       "      <td>6.503635</td>\n",
       "    </tr>\n",
       "    <tr>\n",
       "      <th>13</th>\n",
       "      <td>Miss</td>\n",
       "      <td>112.860827</td>\n",
       "    </tr>\n",
       "    <tr>\n",
       "      <th>14</th>\n",
       "      <td>Mr</td>\n",
       "      <td>414.442624</td>\n",
       "    </tr>\n",
       "    <tr>\n",
       "      <th>15</th>\n",
       "      <td>Mrs</td>\n",
       "      <td>122.387505</td>\n",
       "    </tr>\n",
       "  </tbody>\n",
       "</table>\n",
       "</div>"
      ],
      "text/plain": [
       "             Feature       Score\n",
       "0        PassengerId    0.022285\n",
       "1             Pclass  115.031272\n",
       "2                Age    0.118749\n",
       "3               Fare  108.327062\n",
       "4                Fam    6.313788\n",
       "5   Ticket_Frequency   17.149390\n",
       "6               Solo   47.368609\n",
       "7             Female  372.405724\n",
       "8               Male  372.405724\n",
       "9         Embarked_C   25.895987\n",
       "10        Embarked_Q    0.011846\n",
       "11        Embarked_S   20.374460\n",
       "12            Master    6.503635\n",
       "13              Miss  112.860827\n",
       "14                Mr  414.442624\n",
       "15               Mrs  122.387505"
      ]
     },
     "execution_count": 29,
     "metadata": {},
     "output_type": "execute_result"
    }
   ],
   "source": [
    "# make df to show scores for all features and print\n",
    "\n",
    "feat_scores = pd.DataFrame()\n",
    "feat_scores['Feature'] = feat_names\n",
    "feat_scores['Score'] = k_scores\n",
    "feat_scores"
   ]
  },
  {
   "cell_type": "code",
   "execution_count": 30,
   "metadata": {},
   "outputs": [],
   "source": [
    "# split training data into train and test subsets for validation\n",
    "\n",
    "features_train, features_test, labels_train, labels_test = train_test_split(features, labels, test_size=0.2, random_state=3)"
   ]
  },
  {
   "cell_type": "code",
   "execution_count": 31,
   "metadata": {},
   "outputs": [],
   "source": [
    "# setup base classifiers\n",
    "\n",
    "gb = GradientBoostingClassifier()\n",
    "rf = RandomForestClassifier()\n",
    "et = ExtraTreesClassifier()\n",
    "ab = AdaBoostClassifier()\n",
    "dt = DecisionTreeClassifier()\n",
    "lr = LogisticRegression(solver='liblinear')\n",
    "kn = KNeighborsClassifier()\n",
    "svc = SVC(gamma='auto', probability=True)\n",
    "gnb = GaussianNB()"
   ]
  },
  {
   "cell_type": "code",
   "execution_count": 32,
   "metadata": {},
   "outputs": [
    {
     "name": "stdout",
     "output_type": "stream",
     "text": [
      "GB Score: 0.8156424581005587\n",
      "RF Score: 0.8212290502793296\n",
      "ET Score: 0.8156424581005587\n",
      "AB Score: 0.8044692737430168\n",
      "DT Score: 0.8156424581005587\n",
      "LR Score: 0.8212290502793296\n",
      "KN Score: 0.8044692737430168\n"
     ]
    },
    {
     "name": "stderr",
     "output_type": "stream",
     "text": [
      "/opt/conda/lib/python3.6/site-packages/sklearn/ensemble/forest.py:245: FutureWarning: The default value of n_estimators will change from 10 in version 0.20 to 100 in 0.22.\n",
      "  \"10 in version 0.20 to 100 in 0.22.\", FutureWarning)\n",
      "/opt/conda/lib/python3.6/site-packages/sklearn/ensemble/forest.py:245: FutureWarning: The default value of n_estimators will change from 10 in version 0.20 to 100 in 0.22.\n",
      "  \"10 in version 0.20 to 100 in 0.22.\", FutureWarning)\n"
     ]
    },
    {
     "name": "stdout",
     "output_type": "stream",
     "text": [
      "SVC Score: 0.8044692737430168\n",
      "GNB Score: 0.7821229050279329\n"
     ]
    }
   ],
   "source": [
    "# get train base classifiers and get initial validation scores\n",
    "\n",
    "gb.fit(features_train, labels_train)\n",
    "print('GB Score:', gb.score(features_test, labels_test))\n",
    "rf.fit(features_train, labels_train)\n",
    "print('RF Score:', rf.score(features_test, labels_test))\n",
    "et.fit(features_train, labels_train)\n",
    "print('ET Score:', et.score(features_test, labels_test))\n",
    "ab.fit(features_train, labels_train)\n",
    "print('AB Score:', ab.score(features_test, labels_test))\n",
    "dt.fit(features_train, labels_train)\n",
    "print('DT Score:', dt.score(features_test, labels_test))\n",
    "lr.fit(features_train, labels_train)\n",
    "print('LR Score:', lr.score(features_test, labels_test))\n",
    "kn.fit(features_train, labels_train)\n",
    "print('KN Score:', kn.score(features_test, labels_test))\n",
    "svc.fit(features_train, labels_train)\n",
    "print('SVC Score:', svc.score(features_test, labels_test))\n",
    "gnb.fit(features_train, labels_train)\n",
    "print('GNB Score:', gnb.score(features_test, labels_test))"
   ]
  },
  {
   "cell_type": "code",
   "execution_count": 33,
   "metadata": {},
   "outputs": [
    {
     "name": "stdout",
     "output_type": "stream",
     "text": [
      "Best Parameters: {'learning_rate': 0.01, 'n_estimators': 100}\n",
      "Best Score: 0.8286516853932584\n"
     ]
    },
    {
     "name": "stderr",
     "output_type": "stream",
     "text": [
      "/opt/conda/lib/python3.6/site-packages/sklearn/model_selection/_search.py:814: DeprecationWarning: The default of the `iid` parameter will change from True to False in version 0.22 and will be removed in 0.24. This will change numeric results when test-set sizes are unequal.\n",
      "  DeprecationWarning)\n"
     ]
    }
   ],
   "source": [
    "# use gridsearch to tune base classifier hyperparameters\n",
    "\n",
    "alg = gb\n",
    "params = {'n_estimators': (10, 25, 50, 100), 'learning_rate': (0.01, 0.1, 0.5, 1, 5, 10)}\n",
    "clf = GridSearchCV(alg, params, cv = 5, scoring = 'accuracy', n_jobs = -1)\n",
    "clf.fit(features_train, labels_train)\n",
    "print(\"Best Parameters:\", clf.best_params_)\n",
    "print(\"Best Score:\", clf.best_score_)\n",
    "gb = clf.best_estimator_"
   ]
  },
  {
   "cell_type": "code",
   "execution_count": 34,
   "metadata": {},
   "outputs": [
    {
     "name": "stdout",
     "output_type": "stream",
     "text": [
      "Best Parameters: {'min_samples_leaf': 5, 'min_samples_split': 3, 'n_estimators': 25}\n",
      "Best Score: 0.8300561797752809\n"
     ]
    }
   ],
   "source": [
    "# use gridsearch to tune base classifier hyperparameters\n",
    "\n",
    "alg = rf\n",
    "params = {'n_estimators': (10, 25, 50, 100), 'min_samples_split': (2, 3, 4, 5, 10), 'min_samples_leaf': (1, 2, 3, 4, 5)}\n",
    "clf = GridSearchCV(alg, params, cv = 5, scoring = 'accuracy', n_jobs = -1)\n",
    "clf.fit(features_train, labels_train)\n",
    "print(\"Best Parameters:\", clf.best_params_)\n",
    "print(\"Best Score:\", clf.best_score_)\n",
    "rf = clf.best_estimator_"
   ]
  },
  {
   "cell_type": "code",
   "execution_count": 35,
   "metadata": {},
   "outputs": [
    {
     "name": "stdout",
     "output_type": "stream",
     "text": [
      "Best Parameters: {'min_samples_leaf': 4, 'min_samples_split': 4, 'n_estimators': 10}\n",
      "Best Score: 0.8370786516853933\n"
     ]
    }
   ],
   "source": [
    "# use gridsearch to tune base classifier hyperparameters\n",
    "\n",
    "alg = et\n",
    "params = {'n_estimators': (10, 25, 50, 100), 'min_samples_split': (2, 3, 4, 5, 10), 'min_samples_leaf': (1, 2, 3, 4, 5)}\n",
    "clf = GridSearchCV(alg, params, cv = 5, scoring = 'accuracy', n_jobs = -1)\n",
    "clf.fit(features_train, labels_train)\n",
    "print(\"Best Parameters:\", clf.best_params_)\n",
    "print(\"Best Score:\", clf.best_score_)\n",
    "et = clf.best_estimator_"
   ]
  },
  {
   "cell_type": "code",
   "execution_count": 36,
   "metadata": {},
   "outputs": [
    {
     "name": "stdout",
     "output_type": "stream",
     "text": [
      "Best Parameters: {'learning_rate': 1, 'n_estimators': 10}\n",
      "Best Score: 0.8146067415730337\n"
     ]
    }
   ],
   "source": [
    "# use gridsearch to tune base classifier hyperparameters\n",
    "\n",
    "alg = ab\n",
    "params = {'n_estimators': (10, 25, 50, 100), 'learning_rate': (0.01, 0.1, 0.5, 1, 5, 10)}\n",
    "clf = GridSearchCV(alg, params, cv = 5, scoring = 'accuracy', n_jobs = -1)\n",
    "clf.fit(features_train, labels_train)\n",
    "print(\"Best Parameters:\", clf.best_params_)\n",
    "print(\"Best Score:\", clf.best_score_)\n",
    "ab = clf.best_estimator_"
   ]
  },
  {
   "cell_type": "code",
   "execution_count": 37,
   "metadata": {},
   "outputs": [
    {
     "name": "stdout",
     "output_type": "stream",
     "text": [
      "Best Parameters: {'min_samples_leaf': 1, 'min_samples_split': 4}\n",
      "Best Score: 0.8174157303370787\n"
     ]
    }
   ],
   "source": [
    "# use gridsearch to tune base classifier hyperparameters\n",
    "\n",
    "alg = dt\n",
    "params = {'min_samples_split': (2, 3, 4, 5, 10), 'min_samples_leaf': (1, 2, 3, 4, 5)}\n",
    "clf = GridSearchCV(alg, params, cv = 5, scoring = 'accuracy', n_jobs = -1)\n",
    "clf.fit(features_train, labels_train)\n",
    "print(\"Best Parameters:\", clf.best_params_)\n",
    "print(\"Best Score:\", clf.best_score_)\n",
    "dt = clf.best_estimator_"
   ]
  },
  {
   "cell_type": "code",
   "execution_count": 38,
   "metadata": {},
   "outputs": [
    {
     "name": "stdout",
     "output_type": "stream",
     "text": [
      "Best Parameters: {'C': 10, 'max_iter': 100, 'penalty': 'l1'}\n",
      "Best Score: 0.8188202247191011\n"
     ]
    }
   ],
   "source": [
    "# use gridsearch to tune base classifier hyperparameters\n",
    "\n",
    "alg = lr\n",
    "params = {'penalty': ('l1', 'l2'), 'C': (0.01, 0.1, 0.5, 1, 5, 10), 'max_iter': (100, 500)}\n",
    "clf = GridSearchCV(alg, params, cv = 5, scoring = 'accuracy', n_jobs = -1)\n",
    "clf.fit(features_train, labels_train)\n",
    "print(\"Best Parameters:\", clf.best_params_)\n",
    "print(\"Best Score:\", clf.best_score_)\n",
    "lr = clf.best_estimator_"
   ]
  },
  {
   "cell_type": "code",
   "execution_count": 39,
   "metadata": {},
   "outputs": [
    {
     "name": "stdout",
     "output_type": "stream",
     "text": [
      "Best Parameters: {'n_neighbors': 10}\n",
      "Best Score: 0.8117977528089888\n"
     ]
    }
   ],
   "source": [
    "# use gridsearch to tune base classifier hyperparameters\n",
    "\n",
    "alg = kn\n",
    "params = {'n_neighbors': (2, 3, 4, 5, 10, 20)}\n",
    "clf = GridSearchCV(alg, params, cv = 5, scoring = 'accuracy', n_jobs = -1)\n",
    "clf.fit(features_train, labels_train)\n",
    "print(\"Best Parameters:\", clf.best_params_)\n",
    "print(\"Best Score:\", clf.best_score_)\n",
    "kn = clf.best_estimator_"
   ]
  },
  {
   "cell_type": "code",
   "execution_count": 40,
   "metadata": {},
   "outputs": [
    {
     "name": "stdout",
     "output_type": "stream",
     "text": [
      "Best Parameters: {'C': 10, 'kernel': 'poly'}\n",
      "Best Score: 0.824438202247191\n"
     ]
    }
   ],
   "source": [
    "# use gridsearch to tune base classifier hyperparameters\n",
    "\n",
    "alg = svc\n",
    "params = {'C': (0.01, 0.1, 0.5, 1, 5, 10), 'kernel': ('linear', 'poly', 'rbf', 'sigmoid')}\n",
    "clf = GridSearchCV(alg, params, cv = 5, scoring = 'accuracy', n_jobs = -1)\n",
    "clf.fit(features_train, labels_train)\n",
    "print(\"Best Parameters:\", clf.best_params_)\n",
    "print(\"Best Score:\", clf.best_score_)\n",
    "svc = clf.best_estimator_"
   ]
  },
  {
   "cell_type": "code",
   "execution_count": 41,
   "metadata": {},
   "outputs": [
    {
     "name": "stdout",
     "output_type": "stream",
     "text": [
      "GB Score: 0.8379888268156425\n",
      "RF Score: 0.8379888268156425\n",
      "ET Score: 0.8212290502793296\n",
      "AB Score: 0.7988826815642458\n",
      "DT Score: 0.8156424581005587\n",
      "LR Score: 0.8212290502793296\n",
      "KN Score: 0.8324022346368715\n",
      "SVC Score: 0.8379888268156425\n",
      "GNB Score: 0.7821229050279329\n"
     ]
    }
   ],
   "source": [
    "# retrain base classifiers and get validation scores\n",
    "\n",
    "gb.fit(features_train, labels_train)\n",
    "print('GB Score:', gb.score(features_test, labels_test))\n",
    "rf.fit(features_train, labels_train)\n",
    "print('RF Score:', rf.score(features_test, labels_test))\n",
    "et.fit(features_train, labels_train)\n",
    "print('ET Score:', et.score(features_test, labels_test))\n",
    "ab.fit(features_train, labels_train)\n",
    "print('AB Score:', ab.score(features_test, labels_test))\n",
    "dt.fit(features_train, labels_train)\n",
    "print('DT Score:', dt.score(features_test, labels_test))\n",
    "lr.fit(features_train, labels_train)\n",
    "print('LR Score:', lr.score(features_test, labels_test))\n",
    "kn.fit(features_train, labels_train)\n",
    "print('KN Score:', kn.score(features_test, labels_test))\n",
    "svc.fit(features_train, labels_train)\n",
    "print('SVC Score:', svc.score(features_test, labels_test))\n",
    "gnb.fit(features_train, labels_train)\n",
    "print('GNB Score:', gnb.score(features_test, labels_test))"
   ]
  },
  {
   "cell_type": "code",
   "execution_count": 42,
   "metadata": {},
   "outputs": [
    {
     "data": {
      "text/plain": [
       "0.8283140889719685"
      ]
     },
     "execution_count": 42,
     "metadata": {},
     "output_type": "execute_result"
    }
   ],
   "source": [
    "# setup voting classifier and get initial cross val score\n",
    "\n",
    "vote = VotingClassifier(estimators=[('gb',gb), ('rf',rf), ('et',et), ('ab',ab), ('dt',dt), ('lr',lr), ('kn',kn), ('svc',svc), ('gnb',gnb)], voting='soft')\n",
    "vote.fit(features, labels)\n",
    "cross_val_score(vote, features, labels, cv=5, scoring='accuracy').mean()"
   ]
  },
  {
   "cell_type": "code",
   "execution_count": 43,
   "metadata": {},
   "outputs": [
    {
     "name": "stdout",
     "output_type": "stream",
     "text": [
      "Voting Score: 0.8324022346368715\n"
     ]
    }
   ],
   "source": [
    "# retrain voting classifier and get validation score\n",
    "\n",
    "vote.fit(features_train, labels_train)\n",
    "print('Voting Score:', vote.score(features_test, labels_test))"
   ]
  },
  {
   "cell_type": "code",
   "execution_count": 44,
   "metadata": {},
   "outputs": [],
   "source": [
    "# use itertools combinations to make list of tuples of all possible different combinations of classifiers\n",
    "\n",
    "clfs = [('gb',gb), ('rf',rf), ('et',et), ('ab',ab), ('dt',dt), ('lr',lr), ('kn',kn), ('svc',svc), ('gnb',gnb)]\n",
    "combs = []\n",
    "\n",
    "for i in range(2, len(clfs)+1):\n",
    "    comb = [list(x) for x in itertools.combinations(clfs, i)]\n",
    "    combs.extend(comb)"
   ]
  },
  {
   "cell_type": "code",
   "execution_count": 45,
   "metadata": {},
   "outputs": [
    {
     "name": "stdout",
     "output_type": "stream",
     "text": [
      "Best Parameters: {'estimators': [('gb', GradientBoostingClassifier(criterion='friedman_mse', init=None,\n",
      "                           learning_rate=0.01, loss='deviance', max_depth=3,\n",
      "                           max_features=None, max_leaf_nodes=None,\n",
      "                           min_impurity_decrease=0.0, min_impurity_split=None,\n",
      "                           min_samples_leaf=1, min_samples_split=2,\n",
      "                           min_weight_fraction_leaf=0.0, n_estimators=100,\n",
      "                           n_iter_no_change=None, presort='auto',\n",
      "                           random_state=None, subsample=1.0, tol=0.0001,\n",
      "                           validation_fraction=0.1, verbose=0,\n",
      "                           warm_start=False)), ('rf', RandomForestClassifier(bootstrap=True, class_weight=None, criterion='gini',\n",
      "                       max_depth=None, max_features='auto', max_leaf_nodes=None,\n",
      "                       min_impurity_decrease=0.0, min_impurity_split=None,\n",
      "                       min_samples_leaf=5, min_samples_split=3,\n",
      "                       min_weight_fraction_leaf=0.0, n_estimators=25,\n",
      "                       n_jobs=None, oob_score=False, random_state=None,\n",
      "                       verbose=0, warm_start=False)), ('dt', DecisionTreeClassifier(class_weight=None, criterion='gini', max_depth=None,\n",
      "                       max_features=None, max_leaf_nodes=None,\n",
      "                       min_impurity_decrease=0.0, min_impurity_split=None,\n",
      "                       min_samples_leaf=1, min_samples_split=4,\n",
      "                       min_weight_fraction_leaf=0.0, presort=False,\n",
      "                       random_state=None, splitter='best')), ('kn', KNeighborsClassifier(algorithm='auto', leaf_size=30, metric='minkowski',\n",
      "                     metric_params=None, n_jobs=None, n_neighbors=10, p=2,\n",
      "                     weights='uniform')), ('svc', SVC(C=10, cache_size=200, class_weight=None, coef0=0.0,\n",
      "    decision_function_shape='ovr', degree=3, gamma='auto', kernel='poly',\n",
      "    max_iter=-1, probability=True, random_state=None, shrinking=True, tol=0.001,\n",
      "    verbose=False))]}\n",
      "Best Score: 0.8361391694725028\n"
     ]
    }
   ],
   "source": [
    "# Tune voting classifier to use best combination of base classifiers\n",
    "\n",
    "alg = vote\n",
    "params = {'estimators': combs}\n",
    "clf = GridSearchCV(alg, params, cv = 5, scoring = 'accuracy', n_jobs = -1)\n",
    "clf.fit(features, labels)\n",
    "print(\"Best Parameters:\", clf.best_params_)\n",
    "print(\"Best Score:\", clf.best_score_)\n",
    "vote = clf.best_estimator_"
   ]
  },
  {
   "cell_type": "code",
   "execution_count": 46,
   "metadata": {},
   "outputs": [
    {
     "name": "stdout",
     "output_type": "stream",
     "text": [
      "Voting Score: 0.8324022346368715\n"
     ]
    }
   ],
   "source": [
    "# retrain voting classifier and get validation score\n",
    "\n",
    "vote.fit(features_train, labels_train)\n",
    "print('Voting Score:', vote.score(features_test, labels_test))"
   ]
  },
  {
   "cell_type": "code",
   "execution_count": 47,
   "metadata": {},
   "outputs": [],
   "source": [
    "# retrain voting classifier with full train set, use to make probability predictions and make df of probs, set threshold for probablities and use to convert probs to predictions\n",
    "\n",
    "vote.fit(features, labels)\n",
    "pred_prob = pd.DataFrame(vote.predict_proba(test_df))\n",
    "threshold = 0.55\n",
    "y_pred = pred_prob.applymap(lambda x: 1 if x>threshold else 0)"
   ]
  },
  {
   "cell_type": "code",
   "execution_count": 48,
   "metadata": {},
   "outputs": [],
   "source": [
    "# add predictions submission df as survived column, drop all columns but passenger ID and survived, write submission to csv without index to generate submission file\n",
    "\n",
    "submission['Survived'] = y_pred[1].astype(int)\n",
    "submission = submission[['PassengerId', 'Survived']]\n",
    "submission.to_csv('submission.csv', index=False)"
   ]
  }
 ],
 "metadata": {
  "kernelspec": {
   "display_name": "Python 3",
   "language": "python",
   "name": "python3"
  },
  "language_info": {
   "codemirror_mode": {
    "name": "ipython",
    "version": 3
   },
   "file_extension": ".py",
   "mimetype": "text/x-python",
   "name": "python",
   "nbconvert_exporter": "python",
   "pygments_lexer": "ipython3",
   "version": "3.9.5"
  }
 },
 "nbformat": 4,
 "nbformat_minor": 1
}
