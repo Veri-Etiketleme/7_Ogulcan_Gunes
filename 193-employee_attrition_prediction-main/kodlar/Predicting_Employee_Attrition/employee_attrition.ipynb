{
 "cells": [
  {
   "cell_type": "code",
   "execution_count": 1,
   "metadata": {},
   "outputs": [],
   "source": [
    "#Import Libraries\r\n",
    "import numpy as np\r\n",
    "import pandas as pd\r\n",
    "import seaborn as sns"
   ]
  },
  {
   "cell_type": "code",
   "execution_count": 2,
   "metadata": {},
   "outputs": [
    {
     "ename": "NameError",
     "evalue": "name 'pd' is not defined",
     "output_type": "error",
     "traceback": [
      "\u001b[1;31m---------------------------------------------------------------------------\u001b[0m",
      "\u001b[1;31mNameError\u001b[0m                                 Traceback (most recent call last)",
      "\u001b[1;32m<ipython-input-2-23ac41cbec59>\u001b[0m in \u001b[0;36m<module>\u001b[1;34m\u001b[0m\n\u001b[0;32m      1\u001b[0m \u001b[1;31m#Store the data into the df variable\u001b[0m\u001b[1;33m\u001b[0m\u001b[1;33m\u001b[0m\u001b[1;33m\u001b[0m\u001b[0m\n\u001b[1;32m----> 2\u001b[1;33m \u001b[0mdataset\u001b[0m \u001b[1;33m=\u001b[0m \u001b[0mpd\u001b[0m\u001b[1;33m.\u001b[0m\u001b[0mread_csv\u001b[0m\u001b[1;33m(\u001b[0m\u001b[1;34mr'C:\\Users\\Sri_Harshitha\\Desktop\\Predicting_Employee_Attrition\\dataset\\WA_Fn-UseC_-HR-Employee-Attrition.csv'\u001b[0m\u001b[1;33m)\u001b[0m\u001b[1;33m\u001b[0m\u001b[1;33m\u001b[0m\u001b[0m\n\u001b[0m\u001b[0;32m      3\u001b[0m \u001b[0mdataset\u001b[0m\u001b[1;33m.\u001b[0m\u001b[0mhead\u001b[0m\u001b[1;33m(\u001b[0m\u001b[1;36m7\u001b[0m\u001b[1;33m)\u001b[0m \u001b[1;31m#Print the first 7 rows\u001b[0m\u001b[1;33m\u001b[0m\u001b[1;33m\u001b[0m\u001b[0m\n",
      "\u001b[1;31mNameError\u001b[0m: name 'pd' is not defined"
     ]
    }
   ],
   "source": [
    "#Store the data into the df variable\r\n",
    "dataset = (r'C:\\Users\\Sri_Harshitha\\Desktop\\Predicting_Employee_Attrition\\dataset\\WA_Fn-UseC_-HR-Employee-Attrition.csv') \r\n",
    "dataset.head(7) #Print the first 7 rows"
   ]
  },
  {
   "cell_type": "code",
   "execution_count": null,
   "metadata": {},
   "outputs": [],
   "source": [
    "#Get the number of rows and number of columns in the data\r\n",
    "dataset.shape"
   ]
  },
  {
   "cell_type": "code",
   "execution_count": null,
   "metadata": {},
   "outputs": [],
   "source": [
    "#Get the column data types\r\n",
    "dataset.dtypes"
   ]
  },
  {
   "cell_type": "code",
   "execution_count": null,
   "metadata": {},
   "outputs": [],
   "source": [
    "#Count the empty (NaN, NAN, na) values in each column\r\n",
    "dataset.isna().sum()"
   ]
  },
  {
   "cell_type": "code",
   "execution_count": null,
   "metadata": {},
   "outputs": [],
   "source": [
    "#Another check for any null / missing values\r\n",
    "dataset.isnull().values.any()"
   ]
  },
  {
   "cell_type": "code",
   "execution_count": null,
   "metadata": {},
   "outputs": [],
   "source": [
    "#View some basic statistical details like percentile, mean, standard deviation etc.\r\n",
    "dataset.describe()"
   ]
  },
  {
   "cell_type": "code",
   "execution_count": null,
   "metadata": {},
   "outputs": [],
   "source": [
    "#Get a count of the number of employee attrition, the number of employees that stayed (no) and the number that left (yes)\r\n",
    "dataset['Attrition'].value_counts()"
   ]
  },
  {
   "cell_type": "code",
   "execution_count": null,
   "metadata": {},
   "outputs": [],
   "source": [
    "#Visualize this count \r\n",
    "sns.countplot(dataset['Attrition'])"
   ]
  },
  {
   "cell_type": "code",
   "execution_count": null,
   "metadata": {},
   "outputs": [],
   "source": [
    "#Show the number of employees that left and stayed by age\r\n",
    "import matplotlib.pyplot as plt\r\n",
    "plt.subplots(figsize=(12,4))\r\n",
    "sns.countplot(x='Age', hue='Attrition', data = dataset, palette=\"colorblind\")"
   ]
  },
  {
   "cell_type": "code",
   "execution_count": null,
   "metadata": {},
   "outputs": [],
   "source": [
    "#Print all of the object data types and their unique values\r\n",
    "for column in dataset.columns:\r\n",
    "    if dataset[column].dtype == object:\r\n",
    "        print(str(column) + ' : ' + str(dataset[column].unique()))\r\n",
    "        print(dataset[column].value_counts())\r\n",
    "        print(\"_________________________________________________________________\")"
   ]
  },
  {
   "cell_type": "code",
   "execution_count": null,
   "metadata": {},
   "outputs": [],
   "source": [
    "#Visualize the correlation\r\n",
    "plt.figure(figsize=(14,14))  #14in by 14in\r\n",
    "sns.heatmap(dataset.corr(), annot=True, fmt='.0%')"
   ]
  },
  {
   "cell_type": "code",
   "execution_count": null,
   "metadata": {},
   "outputs": [],
   "source": [
    "#Transform non-numeric columns into numerical columns\r\n",
    "from sklearn.preprocessing import LabelEncoder\r\n",
    "\r\n",
    "for column in dataset.columns:\r\n",
    "        if dataset[column].dtypes == np.int64:\r\n",
    "            continue\r\n",
    "        dataset[column] = LabelEncoder().fit_transform(dataset[column])"
   ]
  },
  {
   "cell_type": "code",
   "execution_count": null,
   "metadata": {},
   "outputs": [],
   "source": [
    "#Create a new column at the end of the dataframe that contains the same value \r\n",
    "dataset['Age_Years'] = dataset['Age']\r\n",
    "#Remove the first column called age \r\n",
    "dataset = dataset.drop('Age', axis = 1)\r\n",
    "#Show the dataframe\r\n",
    "dataset"
   ]
  },
  {
   "cell_type": "code",
   "execution_count": null,
   "metadata": {},
   "outputs": [],
   "source": [
    "#Split the data into independent 'X' and dependent 'Y' variables\r\n",
    "X = dataset.iloc[:, 1:dataset.shape[1]].values \r\n",
    "Y = dataset.iloc[:, 0].values "
   ]
  },
  {
   "cell_type": "code",
   "execution_count": null,
   "metadata": {},
   "outputs": [],
   "source": [
    "# Split the dataset into 75% Training set and 25% Testing set\r\n",
    "from sklearn.model_selection import train_test_split\r\n",
    "X_train, X_test, Y_train, Y_test = train_test_split(X, Y, test_size = 0.25, random_state = 0)"
   ]
  },
  {
   "cell_type": "code",
   "execution_count": null,
   "metadata": {},
   "outputs": [],
   "source": [
    "#Use Random Forest Classification algorithm\r\n",
    "from sklearn.ensemble import RandomForestClassifier\r\n",
    "forest = RandomForestClassifier(n_estimators = 10, criterion = 'entropy', random_state = 0)\r\n",
    "forest.fit(X_train, Y_train)"
   ]
  },
  {
   "cell_type": "code",
   "execution_count": null,
   "metadata": {},
   "outputs": [],
   "source": [
    "#Get the accuracy on the training data\r\n",
    "forest.score(X_train, Y_train)"
   ]
  },
  {
   "cell_type": "code",
   "execution_count": null,
   "metadata": {},
   "outputs": [],
   "source": [
    "#Show the confusion matrix and accuracy for  the model on the test data\r\n",
    "#Classification accuracy is the ratio of correct predictions to total predictions made.\r\n",
    "from sklearn.metrics import confusion_matrix\r\n",
    "\r\n",
    "cm = confusion_matrix(Y_test, forest.predict(X_test))\r\n",
    "  \r\n",
    "TN = cm[0][0]\r\n",
    "TP = cm[1][1]\r\n",
    "FN = cm[1][0]\r\n",
    "FP = cm[0][1]\r\n",
    "  \r\n",
    "print(cm)\r\n",
    "print('Model Testing Accuracy = \"{}!\"'.format(  (TP + TN) / (TP + TN + FN + FP)))\r\n",
    "print()# Print a new line"
   ]
  },
  {
   "cell_type": "code",
   "execution_count": null,
   "metadata": {},
   "outputs": [],
   "source": [
    "(1233 - 237)/ 1233 # to calculate the accuracy roughly for predicting the attrition "
   ]
  },
  {
   "cell_type": "code",
   "execution_count": null,
   "metadata": {},
   "outputs": [],
   "source": [
    "# Return the feature importances (the higher, the more important the feature).\r\n",
    "importances = pd.DataFrame({'feature':dataset.iloc[:, 1:dataset.shape[1]].columns,'importance':np.round(forest.feature_importances_,3)}) #Note: The target column is at position 0\r\n",
    "importances = importances.sort_values('importance',ascending=False).set_index('feature')\r\n",
    "importances"
   ]
  },
  {
   "cell_type": "code",
   "execution_count": null,
   "metadata": {},
   "outputs": [],
   "source": [
    "#Visualize the importance\r\n",
    "importances.plot.bar()"
   ]
  },
  {
   "cell_type": "code",
   "execution_count": null,
   "metadata": {},
   "outputs": [],
   "source": []
  }
 ],
 "metadata": {
  "kernelspec": {
   "display_name": "Python 3.8.8 64-bit ('base': conda)",
   "name": "python388jvsc74a57bd0ab10db72ad350fc049b5a3a07763e6e7fe3ecfabc90a64055da7f8ebea0a0519"
  },
  "language_info": {
   "codemirror_mode": {
    "name": "ipython",
    "version": 3
   },
   "file_extension": ".py",
   "mimetype": "text/x-python",
   "name": "python",
   "nbconvert_exporter": "python",
   "pygments_lexer": "ipython3",
   "version": "3.8.8"
  },
  "orig_nbformat": 2
 },
 "nbformat": 4,
 "nbformat_minor": 2
}